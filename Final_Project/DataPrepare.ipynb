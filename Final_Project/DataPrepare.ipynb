{
 "cells": [
  {
   "cell_type": "code",
   "execution_count": 3,
   "metadata": {},
   "outputs": [],
   "source": [
    "import glob\n",
    "import os\n",
    "import pandas as pd\n",
    "import chardet\n",
    "import statsmodels.api as sm\n",
    "import statsmodels.formula.api as smf\n",
    "\n",
    "from statsmodels.tsa.stattools import coint, adfuller\n",
    "from statsmodels.graphics.regressionplots import abline_plot\n",
    "import matplotlib\n",
    "import matplotlib.pyplot as plt\n",
    "from sklearn.decomposition import PCA\n",
    "from sklearn.model_selection import train_test_split\n",
    "from sklearn import preprocessing\n",
    "import numpy as np\n",
    "from numpy import random\n",
    "from sklearn.linear_model import LinearRegression, Lasso, Ridge\n",
    "import seaborn as sns\n",
    "from pandas import Series\n",
    "from sklearn.svm import SVR\n",
    "from sklearn.model_selection import GridSearchCV\n",
    "from sklearn.kernel_ridge import KernelRidge\n",
    "\n",
    "\n",
    "%matplotlib inline\n",
    "rndseed = 12345"
   ]
  },
  {
   "cell_type": "code",
   "execution_count": 4,
   "metadata": {},
   "outputs": [
    {
     "name": "stdout",
     "output_type": "stream",
     "text": [
      "['data/CO2_passenger_cars_v10.csv', 'data/CO2_passenger_cars_v9.csv', 'data/CO2_passenger_cars_v8.csv', 'data/CO2_passenger_cars_v5.csv', 'data/CO2_passenger_cars_v11.csv', 'data/CO2_passenger_cars_v13.csv', 'data/CO2_passenger_cars_v4.csv', 'data/CO2_passenger_cars_v7.csv', 'data/CO2_passenger_cars_v12.csv', 'data/CO2_passenger_cars_v6.csv', 'data/CO2_passenger_cars_v14.csv']\n"
     ]
    }
   ],
   "source": [
    "print(glob.glob('data/CO2_passenger_cars_v*.csv'))"
   ]
  },
  {
   "cell_type": "markdown",
   "metadata": {},
   "source": [
    "## Use dataset from 2011-2016"
   ]
  },
  {
   "cell_type": "code",
   "execution_count": 5,
   "metadata": {},
   "outputs": [],
   "source": [
    "cols = ['e (g/km)','m (kg)','w (mm)','at1 (mm)','at2 (mm)','ec (cm3)','ep (KW)', 'MP','Ft','MS']"
   ]
  },
  {
   "cell_type": "code",
   "execution_count": 6,
   "metadata": {},
   "outputs": [],
   "source": [
    "with open('data/CO2_passenger_cars_v14.csv', 'rb') as f:\n",
    "    result = chardet.detect(f.read())\n",
    "result['encoding']\n",
    "data_16 = pd.read_csv('data/CO2_passenger_cars_v14.csv', sep='\\t', encoding=result['encoding'], usecols=cols)"
   ]
  },
  {
   "cell_type": "code",
   "execution_count": 7,
   "metadata": {},
   "outputs": [
    {
     "data": {
      "text/html": [
       "<div>\n",
       "<style scoped>\n",
       "    .dataframe tbody tr th:only-of-type {\n",
       "        vertical-align: middle;\n",
       "    }\n",
       "\n",
       "    .dataframe tbody tr th {\n",
       "        vertical-align: top;\n",
       "    }\n",
       "\n",
       "    .dataframe thead th {\n",
       "        text-align: right;\n",
       "    }\n",
       "</style>\n",
       "<table border=\"1\" class=\"dataframe\">\n",
       "  <thead>\n",
       "    <tr style=\"text-align: right;\">\n",
       "      <th></th>\n",
       "      <th>MS</th>\n",
       "      <th>MP</th>\n",
       "      <th>e (g/km)</th>\n",
       "      <th>m (kg)</th>\n",
       "      <th>w (mm)</th>\n",
       "      <th>at1 (mm)</th>\n",
       "      <th>at2 (mm)</th>\n",
       "      <th>Ft</th>\n",
       "      <th>ec (cm3)</th>\n",
       "      <th>ep (KW)</th>\n",
       "      <th>year</th>\n",
       "    </tr>\n",
       "  </thead>\n",
       "  <tbody>\n",
       "    <tr>\n",
       "      <th>0</th>\n",
       "      <td>DK</td>\n",
       "      <td>DAIMLER AG</td>\n",
       "      <td>158.0</td>\n",
       "      <td>2145.0</td>\n",
       "      <td>3200.0</td>\n",
       "      <td>1666.0</td>\n",
       "      <td>1646.0</td>\n",
       "      <td>Diesel</td>\n",
       "      <td>2143.0</td>\n",
       "      <td>140.0</td>\n",
       "      <td>2016</td>\n",
       "    </tr>\n",
       "    <tr>\n",
       "      <th>1</th>\n",
       "      <td>DK</td>\n",
       "      <td>DAIMLER AG</td>\n",
       "      <td>158.0</td>\n",
       "      <td>1985.0</td>\n",
       "      <td>3200.0</td>\n",
       "      <td>1666.0</td>\n",
       "      <td>1646.0</td>\n",
       "      <td>Diesel</td>\n",
       "      <td>2143.0</td>\n",
       "      <td>100.0</td>\n",
       "      <td>2016</td>\n",
       "    </tr>\n",
       "    <tr>\n",
       "      <th>2</th>\n",
       "      <td>DK</td>\n",
       "      <td>DAIMLER AG</td>\n",
       "      <td>158.0</td>\n",
       "      <td>2170.0</td>\n",
       "      <td>3430.0</td>\n",
       "      <td>1666.0</td>\n",
       "      <td>1646.0</td>\n",
       "      <td>Diesel</td>\n",
       "      <td>2143.0</td>\n",
       "      <td>140.0</td>\n",
       "      <td>2016</td>\n",
       "    </tr>\n",
       "    <tr>\n",
       "      <th>3</th>\n",
       "      <td>DK</td>\n",
       "      <td>DAIMLER AG</td>\n",
       "      <td>154.0</td>\n",
       "      <td>2105.0</td>\n",
       "      <td>3200.0</td>\n",
       "      <td>1666.0</td>\n",
       "      <td>1646.0</td>\n",
       "      <td>Diesel</td>\n",
       "      <td>2143.0</td>\n",
       "      <td>120.0</td>\n",
       "      <td>2016</td>\n",
       "    </tr>\n",
       "    <tr>\n",
       "      <th>4</th>\n",
       "      <td>DK</td>\n",
       "      <td>DAIMLER AG</td>\n",
       "      <td>177.0</td>\n",
       "      <td>2210.0</td>\n",
       "      <td>3200.0</td>\n",
       "      <td>1666.0</td>\n",
       "      <td>1646.0</td>\n",
       "      <td>Diesel</td>\n",
       "      <td>2143.0</td>\n",
       "      <td>140.0</td>\n",
       "      <td>2016</td>\n",
       "    </tr>\n",
       "  </tbody>\n",
       "</table>\n",
       "</div>"
      ],
      "text/plain": [
       "   MS          MP  e (g/km)  m (kg)  w (mm)  at1 (mm)  at2 (mm)      Ft  \\\n",
       "0  DK  DAIMLER AG     158.0  2145.0  3200.0    1666.0    1646.0  Diesel   \n",
       "1  DK  DAIMLER AG     158.0  1985.0  3200.0    1666.0    1646.0  Diesel   \n",
       "2  DK  DAIMLER AG     158.0  2170.0  3430.0    1666.0    1646.0  Diesel   \n",
       "3  DK  DAIMLER AG     154.0  2105.0  3200.0    1666.0    1646.0  Diesel   \n",
       "4  DK  DAIMLER AG     177.0  2210.0  3200.0    1666.0    1646.0  Diesel   \n",
       "\n",
       "   ec (cm3)  ep (KW)  year  \n",
       "0    2143.0    140.0  2016  \n",
       "1    2143.0    100.0  2016  \n",
       "2    2143.0    140.0  2016  \n",
       "3    2143.0    120.0  2016  \n",
       "4    2143.0    140.0  2016  "
      ]
     },
     "execution_count": 7,
     "metadata": {},
     "output_type": "execute_result"
    }
   ],
   "source": [
    "data_16['year'] = 2016\n",
    "data_16.head()"
   ]
  },
  {
   "cell_type": "code",
   "execution_count": 8,
   "metadata": {},
   "outputs": [],
   "source": [
    "with open('data/CO2_passenger_cars_v12.csv', 'rb') as f:\n",
    "    result = chardet.detect(f.read())\n",
    "result['encoding']\n",
    "\n",
    "data_15 = pd.read_csv('data/CO2_passenger_cars_v12.csv', sep='\\t', encoding=result['encoding'], usecols=cols)\n",
    "#data_12.head()"
   ]
  },
  {
   "cell_type": "code",
   "execution_count": 9,
   "metadata": {},
   "outputs": [
    {
     "data": {
      "text/html": [
       "<div>\n",
       "<style scoped>\n",
       "    .dataframe tbody tr th:only-of-type {\n",
       "        vertical-align: middle;\n",
       "    }\n",
       "\n",
       "    .dataframe tbody tr th {\n",
       "        vertical-align: top;\n",
       "    }\n",
       "\n",
       "    .dataframe thead th {\n",
       "        text-align: right;\n",
       "    }\n",
       "</style>\n",
       "<table border=\"1\" class=\"dataframe\">\n",
       "  <thead>\n",
       "    <tr style=\"text-align: right;\">\n",
       "      <th></th>\n",
       "      <th>MS</th>\n",
       "      <th>MP</th>\n",
       "      <th>e (g/km)</th>\n",
       "      <th>m (kg)</th>\n",
       "      <th>w (mm)</th>\n",
       "      <th>at1 (mm)</th>\n",
       "      <th>at2 (mm)</th>\n",
       "      <th>Ft</th>\n",
       "      <th>ec (cm3)</th>\n",
       "      <th>ep (KW)</th>\n",
       "      <th>year</th>\n",
       "    </tr>\n",
       "  </thead>\n",
       "  <tbody>\n",
       "    <tr>\n",
       "      <th>0</th>\n",
       "      <td>LU</td>\n",
       "      <td>VW GROUP PC</td>\n",
       "      <td>119.0</td>\n",
       "      <td>1376.0</td>\n",
       "      <td>2620.0</td>\n",
       "      <td>1527.0</td>\n",
       "      <td>1496.0</td>\n",
       "      <td>DIESEL</td>\n",
       "      <td>1968.0</td>\n",
       "      <td>110.0</td>\n",
       "      <td>2015</td>\n",
       "    </tr>\n",
       "    <tr>\n",
       "      <th>1</th>\n",
       "      <td>LU</td>\n",
       "      <td>VW GROUP PC</td>\n",
       "      <td>145.0</td>\n",
       "      <td>1392.0</td>\n",
       "      <td>2626.0</td>\n",
       "      <td>1527.0</td>\n",
       "      <td>1496.0</td>\n",
       "      <td>PETROL</td>\n",
       "      <td>1984.0</td>\n",
       "      <td>162.0</td>\n",
       "      <td>2015</td>\n",
       "    </tr>\n",
       "    <tr>\n",
       "      <th>2</th>\n",
       "      <td>LU</td>\n",
       "      <td>VW GROUP PC</td>\n",
       "      <td>209.0</td>\n",
       "      <td>2356.0</td>\n",
       "      <td>3665.0</td>\n",
       "      <td>1710.0</td>\n",
       "      <td>1716.0</td>\n",
       "      <td>DIESEL</td>\n",
       "      <td>1968.0</td>\n",
       "      <td>120.0</td>\n",
       "      <td>2015</td>\n",
       "    </tr>\n",
       "    <tr>\n",
       "      <th>3</th>\n",
       "      <td>LU</td>\n",
       "      <td>VW GROUP PC</td>\n",
       "      <td>148.0</td>\n",
       "      <td>1468.0</td>\n",
       "      <td>2538.0</td>\n",
       "      <td>1570.0</td>\n",
       "      <td>1548.0</td>\n",
       "      <td>PETROL</td>\n",
       "      <td>1390.0</td>\n",
       "      <td>118.0</td>\n",
       "      <td>2015</td>\n",
       "    </tr>\n",
       "    <tr>\n",
       "      <th>4</th>\n",
       "      <td>LU</td>\n",
       "      <td>VW GROUP PC</td>\n",
       "      <td>140.0</td>\n",
       "      <td>1411.0</td>\n",
       "      <td>2524.0</td>\n",
       "      <td>1570.0</td>\n",
       "      <td>1546.0</td>\n",
       "      <td>DIESEL</td>\n",
       "      <td>1968.0</td>\n",
       "      <td>103.0</td>\n",
       "      <td>2015</td>\n",
       "    </tr>\n",
       "  </tbody>\n",
       "</table>\n",
       "</div>"
      ],
      "text/plain": [
       "   MS           MP  e (g/km)  m (kg)  w (mm)  at1 (mm)  at2 (mm)      Ft  \\\n",
       "0  LU  VW GROUP PC     119.0  1376.0  2620.0    1527.0    1496.0  DIESEL   \n",
       "1  LU  VW GROUP PC     145.0  1392.0  2626.0    1527.0    1496.0  PETROL   \n",
       "2  LU  VW GROUP PC     209.0  2356.0  3665.0    1710.0    1716.0  DIESEL   \n",
       "3  LU  VW GROUP PC     148.0  1468.0  2538.0    1570.0    1548.0  PETROL   \n",
       "4  LU  VW GROUP PC     140.0  1411.0  2524.0    1570.0    1546.0  DIESEL   \n",
       "\n",
       "   ec (cm3)  ep (KW)  year  \n",
       "0    1968.0    110.0  2015  \n",
       "1    1984.0    162.0  2015  \n",
       "2    1968.0    120.0  2015  \n",
       "3    1390.0    118.0  2015  \n",
       "4    1968.0    103.0  2015  "
      ]
     },
     "execution_count": 9,
     "metadata": {},
     "output_type": "execute_result"
    }
   ],
   "source": [
    "data_15['year'] = 2015\n",
    "data_15.head()"
   ]
  },
  {
   "cell_type": "code",
   "execution_count": 10,
   "metadata": {},
   "outputs": [],
   "source": [
    "with open('data/CO2_passenger_cars_v10.csv', 'rb') as f:\n",
    "    result = chardet.detect(f.read())\n",
    "result['encoding']\n",
    "data_14 = pd.read_csv('data/CO2_passenger_cars_v10.csv', sep='\\t', encoding=result['encoding'], usecols=cols)"
   ]
  },
  {
   "cell_type": "code",
   "execution_count": 11,
   "metadata": {},
   "outputs": [
    {
     "data": {
      "text/html": [
       "<div>\n",
       "<style scoped>\n",
       "    .dataframe tbody tr th:only-of-type {\n",
       "        vertical-align: middle;\n",
       "    }\n",
       "\n",
       "    .dataframe tbody tr th {\n",
       "        vertical-align: top;\n",
       "    }\n",
       "\n",
       "    .dataframe thead th {\n",
       "        text-align: right;\n",
       "    }\n",
       "</style>\n",
       "<table border=\"1\" class=\"dataframe\">\n",
       "  <thead>\n",
       "    <tr style=\"text-align: right;\">\n",
       "      <th></th>\n",
       "      <th>MS</th>\n",
       "      <th>MP</th>\n",
       "      <th>e (g/km)</th>\n",
       "      <th>m (kg)</th>\n",
       "      <th>w (mm)</th>\n",
       "      <th>at1 (mm)</th>\n",
       "      <th>at2 (mm)</th>\n",
       "      <th>Ft</th>\n",
       "      <th>ec (cm3)</th>\n",
       "      <th>ep (KW)</th>\n",
       "      <th>year</th>\n",
       "    </tr>\n",
       "  </thead>\n",
       "  <tbody>\n",
       "    <tr>\n",
       "      <th>0</th>\n",
       "      <td>AT</td>\n",
       "      <td>na</td>\n",
       "      <td>218.0</td>\n",
       "      <td>1406.0</td>\n",
       "      <td>2415.0</td>\n",
       "      <td>1543.0</td>\n",
       "      <td>1561.0</td>\n",
       "      <td>Petrol</td>\n",
       "      <td>1998.0</td>\n",
       "      <td>194.0</td>\n",
       "      <td>2014</td>\n",
       "    </tr>\n",
       "    <tr>\n",
       "      <th>1</th>\n",
       "      <td>AT</td>\n",
       "      <td>na</td>\n",
       "      <td>264.0</td>\n",
       "      <td>2195.0</td>\n",
       "      <td>3122.0</td>\n",
       "      <td>1652.0</td>\n",
       "      <td>1643.0</td>\n",
       "      <td>Petrol</td>\n",
       "      <td>6299.0</td>\n",
       "      <td>368.0</td>\n",
       "      <td>2014</td>\n",
       "    </tr>\n",
       "    <tr>\n",
       "      <th>2</th>\n",
       "      <td>AT</td>\n",
       "      <td>na</td>\n",
       "      <td>282.0</td>\n",
       "      <td>2370.0</td>\n",
       "      <td>3013.0</td>\n",
       "      <td>1653.0</td>\n",
       "      <td>1695.0</td>\n",
       "      <td>Diesel</td>\n",
       "      <td>2967.0</td>\n",
       "      <td>171.0</td>\n",
       "      <td>2014</td>\n",
       "    </tr>\n",
       "    <tr>\n",
       "      <th>3</th>\n",
       "      <td>AT</td>\n",
       "      <td>na</td>\n",
       "      <td>NaN</td>\n",
       "      <td>1840.0</td>\n",
       "      <td>2805.0</td>\n",
       "      <td>1583.0</td>\n",
       "      <td>1574.0</td>\n",
       "      <td>Petrol</td>\n",
       "      <td>1984.0</td>\n",
       "      <td>220.0</td>\n",
       "      <td>2014</td>\n",
       "    </tr>\n",
       "    <tr>\n",
       "      <th>4</th>\n",
       "      <td>AT</td>\n",
       "      <td>na</td>\n",
       "      <td>165.0</td>\n",
       "      <td>1695.0</td>\n",
       "      <td>2594.0</td>\n",
       "      <td>1555.0</td>\n",
       "      <td>1526.0</td>\n",
       "      <td>Petrol</td>\n",
       "      <td>1984.0</td>\n",
       "      <td>221.0</td>\n",
       "      <td>2014</td>\n",
       "    </tr>\n",
       "  </tbody>\n",
       "</table>\n",
       "</div>"
      ],
      "text/plain": [
       "   MS  MP  e (g/km)  m (kg)  w (mm)  at1 (mm)  at2 (mm)      Ft  ec (cm3)  \\\n",
       "0  AT  na     218.0  1406.0  2415.0    1543.0    1561.0  Petrol    1998.0   \n",
       "1  AT  na     264.0  2195.0  3122.0    1652.0    1643.0  Petrol    6299.0   \n",
       "2  AT  na     282.0  2370.0  3013.0    1653.0    1695.0  Diesel    2967.0   \n",
       "3  AT  na       NaN  1840.0  2805.0    1583.0    1574.0  Petrol    1984.0   \n",
       "4  AT  na     165.0  1695.0  2594.0    1555.0    1526.0  Petrol    1984.0   \n",
       "\n",
       "   ep (KW)  year  \n",
       "0    194.0  2014  \n",
       "1    368.0  2014  \n",
       "2    171.0  2014  \n",
       "3    220.0  2014  \n",
       "4    221.0  2014  "
      ]
     },
     "execution_count": 11,
     "metadata": {},
     "output_type": "execute_result"
    }
   ],
   "source": [
    "data_14['year'] = 2014\n",
    "data_14.head()"
   ]
  },
  {
   "cell_type": "code",
   "execution_count": 12,
   "metadata": {},
   "outputs": [],
   "source": [
    "with open('data/CO2_passenger_cars_v8.csv', 'rb') as f:\n",
    "    result = chardet.detect(f.read())\n",
    "result['encoding']\n",
    "data_13 = pd.read_csv('data/CO2_passenger_cars_v8.csv', sep='\\t', encoding=result['encoding'], usecols=cols)"
   ]
  },
  {
   "cell_type": "code",
   "execution_count": 13,
   "metadata": {},
   "outputs": [
    {
     "data": {
      "text/html": [
       "<div>\n",
       "<style scoped>\n",
       "    .dataframe tbody tr th:only-of-type {\n",
       "        vertical-align: middle;\n",
       "    }\n",
       "\n",
       "    .dataframe tbody tr th {\n",
       "        vertical-align: top;\n",
       "    }\n",
       "\n",
       "    .dataframe thead th {\n",
       "        text-align: right;\n",
       "    }\n",
       "</style>\n",
       "<table border=\"1\" class=\"dataframe\">\n",
       "  <thead>\n",
       "    <tr style=\"text-align: right;\">\n",
       "      <th></th>\n",
       "      <th>MS</th>\n",
       "      <th>MP</th>\n",
       "      <th>e (g/km)</th>\n",
       "      <th>m (kg)</th>\n",
       "      <th>w (mm)</th>\n",
       "      <th>at1 (mm)</th>\n",
       "      <th>at2 (mm)</th>\n",
       "      <th>Ft</th>\n",
       "      <th>ec (cm3)</th>\n",
       "      <th>ep (KW)</th>\n",
       "      <th>year</th>\n",
       "    </tr>\n",
       "  </thead>\n",
       "  <tbody>\n",
       "    <tr>\n",
       "      <th>0</th>\n",
       "      <td>AT</td>\n",
       "      <td>NaN</td>\n",
       "      <td>NaN</td>\n",
       "      <td>2260.0</td>\n",
       "      <td>3122.0</td>\n",
       "      <td>1652.0</td>\n",
       "      <td>1643.0</td>\n",
       "      <td>Petrol</td>\n",
       "      <td>3993.0</td>\n",
       "      <td>412.0</td>\n",
       "      <td>2013</td>\n",
       "    </tr>\n",
       "    <tr>\n",
       "      <th>1</th>\n",
       "      <td>AT</td>\n",
       "      <td>NaN</td>\n",
       "      <td>277.0</td>\n",
       "      <td>2130.0</td>\n",
       "      <td>3122.0</td>\n",
       "      <td>1652.0</td>\n",
       "      <td>1643.0</td>\n",
       "      <td>Petrol</td>\n",
       "      <td>6299.0</td>\n",
       "      <td>368.0</td>\n",
       "      <td>2013</td>\n",
       "    </tr>\n",
       "    <tr>\n",
       "      <th>2</th>\n",
       "      <td>AT</td>\n",
       "      <td>NaN</td>\n",
       "      <td>216.0</td>\n",
       "      <td>2020.0</td>\n",
       "      <td>3100.0</td>\n",
       "      <td>1652.0</td>\n",
       "      <td>1643.0</td>\n",
       "      <td>Petrol</td>\n",
       "      <td>3993.0</td>\n",
       "      <td>320.0</td>\n",
       "      <td>2013</td>\n",
       "    </tr>\n",
       "    <tr>\n",
       "      <th>3</th>\n",
       "      <td>AT</td>\n",
       "      <td>NaN</td>\n",
       "      <td>112.0</td>\n",
       "      <td>1395.0</td>\n",
       "      <td>2578.0</td>\n",
       "      <td>1522.0</td>\n",
       "      <td>1515.0</td>\n",
       "      <td>Diesel</td>\n",
       "      <td>1598.0</td>\n",
       "      <td>77.0</td>\n",
       "      <td>2013</td>\n",
       "    </tr>\n",
       "    <tr>\n",
       "      <th>4</th>\n",
       "      <td>AT</td>\n",
       "      <td>NaN</td>\n",
       "      <td>152.0</td>\n",
       "      <td>1470.0</td>\n",
       "      <td>2618.0</td>\n",
       "      <td>1555.0</td>\n",
       "      <td>1526.0</td>\n",
       "      <td>Petrol</td>\n",
       "      <td>1798.0</td>\n",
       "      <td>132.0</td>\n",
       "      <td>2013</td>\n",
       "    </tr>\n",
       "  </tbody>\n",
       "</table>\n",
       "</div>"
      ],
      "text/plain": [
       "   MS   MP  e (g/km)  m (kg)  w (mm)  at1 (mm)  at2 (mm)      Ft  ec (cm3)  \\\n",
       "0  AT  NaN       NaN  2260.0  3122.0    1652.0    1643.0  Petrol    3993.0   \n",
       "1  AT  NaN     277.0  2130.0  3122.0    1652.0    1643.0  Petrol    6299.0   \n",
       "2  AT  NaN     216.0  2020.0  3100.0    1652.0    1643.0  Petrol    3993.0   \n",
       "3  AT  NaN     112.0  1395.0  2578.0    1522.0    1515.0  Diesel    1598.0   \n",
       "4  AT  NaN     152.0  1470.0  2618.0    1555.0    1526.0  Petrol    1798.0   \n",
       "\n",
       "   ep (KW)  year  \n",
       "0    412.0  2013  \n",
       "1    368.0  2013  \n",
       "2    320.0  2013  \n",
       "3     77.0  2013  \n",
       "4    132.0  2013  "
      ]
     },
     "execution_count": 13,
     "metadata": {},
     "output_type": "execute_result"
    }
   ],
   "source": [
    "data_13['year'] = 2013\n",
    "data_13.head()"
   ]
  },
  {
   "cell_type": "code",
   "execution_count": 14,
   "metadata": {},
   "outputs": [],
   "source": [
    "with open('data/CO2_passenger_cars_v6.csv', 'rb') as f:\n",
    "    result = chardet.detect(f.read())\n",
    "result['encoding']\n",
    "data_12 = pd.read_csv('data/CO2_passenger_cars_v6.csv', sep='\\t', encoding=result['encoding'], usecols=cols)"
   ]
  },
  {
   "cell_type": "code",
   "execution_count": 15,
   "metadata": {},
   "outputs": [
    {
     "data": {
      "text/html": [
       "<div>\n",
       "<style scoped>\n",
       "    .dataframe tbody tr th:only-of-type {\n",
       "        vertical-align: middle;\n",
       "    }\n",
       "\n",
       "    .dataframe tbody tr th {\n",
       "        vertical-align: top;\n",
       "    }\n",
       "\n",
       "    .dataframe thead th {\n",
       "        text-align: right;\n",
       "    }\n",
       "</style>\n",
       "<table border=\"1\" class=\"dataframe\">\n",
       "  <thead>\n",
       "    <tr style=\"text-align: right;\">\n",
       "      <th></th>\n",
       "      <th>MS</th>\n",
       "      <th>e (g/km)</th>\n",
       "      <th>m (kg)</th>\n",
       "      <th>w (mm)</th>\n",
       "      <th>at1 (mm)</th>\n",
       "      <th>at2 (mm)</th>\n",
       "      <th>Ft</th>\n",
       "      <th>ec (cm3)</th>\n",
       "      <th>ep (KW)</th>\n",
       "      <th>MP</th>\n",
       "      <th>year</th>\n",
       "    </tr>\n",
       "  </thead>\n",
       "  <tbody>\n",
       "    <tr>\n",
       "      <th>0</th>\n",
       "      <td>AT</td>\n",
       "      <td>0.0</td>\n",
       "      <td>1515.0</td>\n",
       "      <td>2400.0</td>\n",
       "      <td>1325.0</td>\n",
       "      <td>1305.0</td>\n",
       "      <td>Electric</td>\n",
       "      <td>NaN</td>\n",
       "      <td>20.0</td>\n",
       "      <td>NaN</td>\n",
       "      <td>2012</td>\n",
       "    </tr>\n",
       "    <tr>\n",
       "      <th>1</th>\n",
       "      <td>AT</td>\n",
       "      <td>183.0</td>\n",
       "      <td>575.0</td>\n",
       "      <td>2310.0</td>\n",
       "      <td>1320.0</td>\n",
       "      <td>1375.0</td>\n",
       "      <td>Petrol</td>\n",
       "      <td>1340.0</td>\n",
       "      <td>145.0</td>\n",
       "      <td>NaN</td>\n",
       "      <td>2012</td>\n",
       "    </tr>\n",
       "    <tr>\n",
       "      <th>2</th>\n",
       "      <td>AT</td>\n",
       "      <td>270.0</td>\n",
       "      <td>1795.0</td>\n",
       "      <td>2850.0</td>\n",
       "      <td>1535.0</td>\n",
       "      <td>1535.0</td>\n",
       "      <td>Petrol</td>\n",
       "      <td>2351.0</td>\n",
       "      <td>92.0</td>\n",
       "      <td>NaN</td>\n",
       "      <td>2012</td>\n",
       "    </tr>\n",
       "    <tr>\n",
       "      <th>3</th>\n",
       "      <td>AT</td>\n",
       "      <td>312.0</td>\n",
       "      <td>2000.0</td>\n",
       "      <td>2820.0</td>\n",
       "      <td>1566.0</td>\n",
       "      <td>1566.0</td>\n",
       "      <td>Petrol</td>\n",
       "      <td>4163.0</td>\n",
       "      <td>331.0</td>\n",
       "      <td>NaN</td>\n",
       "      <td>2012</td>\n",
       "    </tr>\n",
       "    <tr>\n",
       "      <th>4</th>\n",
       "      <td>AT</td>\n",
       "      <td>229.0</td>\n",
       "      <td>1870.0</td>\n",
       "      <td>2910.0</td>\n",
       "      <td>1662.0</td>\n",
       "      <td>1663.0</td>\n",
       "      <td>Petrol</td>\n",
       "      <td>3993.0</td>\n",
       "      <td>412.0</td>\n",
       "      <td>NaN</td>\n",
       "      <td>2012</td>\n",
       "    </tr>\n",
       "  </tbody>\n",
       "</table>\n",
       "</div>"
      ],
      "text/plain": [
       "   MS  e (g/km)  m (kg)  w (mm)  at1 (mm)  at2 (mm)        Ft  ec (cm3)  \\\n",
       "0  AT       0.0  1515.0  2400.0    1325.0    1305.0  Electric       NaN   \n",
       "1  AT     183.0   575.0  2310.0    1320.0    1375.0    Petrol    1340.0   \n",
       "2  AT     270.0  1795.0  2850.0    1535.0    1535.0    Petrol    2351.0   \n",
       "3  AT     312.0  2000.0  2820.0    1566.0    1566.0    Petrol    4163.0   \n",
       "4  AT     229.0  1870.0  2910.0    1662.0    1663.0    Petrol    3993.0   \n",
       "\n",
       "   ep (KW)   MP  year  \n",
       "0     20.0  NaN  2012  \n",
       "1    145.0  NaN  2012  \n",
       "2     92.0  NaN  2012  \n",
       "3    331.0  NaN  2012  \n",
       "4    412.0  NaN  2012  "
      ]
     },
     "execution_count": 15,
     "metadata": {},
     "output_type": "execute_result"
    }
   ],
   "source": [
    "data_12['year'] = 2012\n",
    "data_12.head()"
   ]
  },
  {
   "cell_type": "code",
   "execution_count": 16,
   "metadata": {},
   "outputs": [],
   "source": [
    "with open('data/CO2_passenger_cars_v4.csv', 'rb') as f:\n",
    "    result = chardet.detect(f.read())\n",
    "result['encoding']\n",
    "data_11 = pd.read_csv('data/CO2_passenger_cars_v4.csv', sep='\\t', encoding=result['encoding'], usecols=cols)"
   ]
  },
  {
   "cell_type": "code",
   "execution_count": 17,
   "metadata": {},
   "outputs": [
    {
     "data": {
      "text/html": [
       "<div>\n",
       "<style scoped>\n",
       "    .dataframe tbody tr th:only-of-type {\n",
       "        vertical-align: middle;\n",
       "    }\n",
       "\n",
       "    .dataframe tbody tr th {\n",
       "        vertical-align: top;\n",
       "    }\n",
       "\n",
       "    .dataframe thead th {\n",
       "        text-align: right;\n",
       "    }\n",
       "</style>\n",
       "<table border=\"1\" class=\"dataframe\">\n",
       "  <thead>\n",
       "    <tr style=\"text-align: right;\">\n",
       "      <th></th>\n",
       "      <th>MP</th>\n",
       "      <th>MS</th>\n",
       "      <th>e (g/km)</th>\n",
       "      <th>m (kg)</th>\n",
       "      <th>w (mm)</th>\n",
       "      <th>at1 (mm)</th>\n",
       "      <th>at2 (mm)</th>\n",
       "      <th>Ft</th>\n",
       "      <th>ec (cm3)</th>\n",
       "      <th>ep (KW)</th>\n",
       "      <th>year</th>\n",
       "    </tr>\n",
       "  </thead>\n",
       "  <tbody>\n",
       "    <tr>\n",
       "      <th>0</th>\n",
       "      <td>NaN</td>\n",
       "      <td>AT</td>\n",
       "      <td>155.0</td>\n",
       "      <td>1240.0</td>\n",
       "      <td>2452.0</td>\n",
       "      <td>1468.0</td>\n",
       "      <td>1471.0</td>\n",
       "      <td>Petrol</td>\n",
       "      <td>1598.0</td>\n",
       "      <td>NaN</td>\n",
       "      <td>2011</td>\n",
       "    </tr>\n",
       "    <tr>\n",
       "      <th>1</th>\n",
       "      <td>NaN</td>\n",
       "      <td>AT</td>\n",
       "      <td>314.0</td>\n",
       "      <td>1225.0</td>\n",
       "      <td>2575.0</td>\n",
       "      <td>1537.0</td>\n",
       "      <td>1575.0</td>\n",
       "      <td>Petrol</td>\n",
       "      <td>5666.0</td>\n",
       "      <td>NaN</td>\n",
       "      <td>2011</td>\n",
       "    </tr>\n",
       "    <tr>\n",
       "      <th>2</th>\n",
       "      <td>NaN</td>\n",
       "      <td>AT</td>\n",
       "      <td>0.0</td>\n",
       "      <td>1415.0</td>\n",
       "      <td>1810.0</td>\n",
       "      <td>1220.0</td>\n",
       "      <td>1220.0</td>\n",
       "      <td>Electric</td>\n",
       "      <td>NaN</td>\n",
       "      <td>NaN</td>\n",
       "      <td>2011</td>\n",
       "    </tr>\n",
       "    <tr>\n",
       "      <th>3</th>\n",
       "      <td>NaN</td>\n",
       "      <td>AT</td>\n",
       "      <td>NaN</td>\n",
       "      <td>1788.0</td>\n",
       "      <td>2620.0</td>\n",
       "      <td>1565.0</td>\n",
       "      <td>1565.0</td>\n",
       "      <td>Diesel</td>\n",
       "      <td>2199.0</td>\n",
       "      <td>NaN</td>\n",
       "      <td>2011</td>\n",
       "    </tr>\n",
       "    <tr>\n",
       "      <th>4</th>\n",
       "      <td>NaN</td>\n",
       "      <td>AT</td>\n",
       "      <td>NaN</td>\n",
       "      <td>1727.0</td>\n",
       "      <td>2620.0</td>\n",
       "      <td>1565.0</td>\n",
       "      <td>1565.0</td>\n",
       "      <td>Diesel</td>\n",
       "      <td>2199.0</td>\n",
       "      <td>NaN</td>\n",
       "      <td>2011</td>\n",
       "    </tr>\n",
       "  </tbody>\n",
       "</table>\n",
       "</div>"
      ],
      "text/plain": [
       "    MP  MS  e (g/km)  m (kg)  w (mm)  at1 (mm)  at2 (mm)        Ft  ec (cm3)  \\\n",
       "0  NaN  AT     155.0  1240.0  2452.0    1468.0    1471.0    Petrol    1598.0   \n",
       "1  NaN  AT     314.0  1225.0  2575.0    1537.0    1575.0    Petrol    5666.0   \n",
       "2  NaN  AT       0.0  1415.0  1810.0    1220.0    1220.0  Electric       NaN   \n",
       "3  NaN  AT       NaN  1788.0  2620.0    1565.0    1565.0    Diesel    2199.0   \n",
       "4  NaN  AT       NaN  1727.0  2620.0    1565.0    1565.0    Diesel    2199.0   \n",
       "\n",
       "   ep (KW)  year  \n",
       "0      NaN  2011  \n",
       "1      NaN  2011  \n",
       "2      NaN  2011  \n",
       "3      NaN  2011  \n",
       "4      NaN  2011  "
      ]
     },
     "execution_count": 17,
     "metadata": {},
     "output_type": "execute_result"
    }
   ],
   "source": [
    "data_11['year'] = 2011\n",
    "data_11.head()"
   ]
  },
  {
   "cell_type": "code",
   "execution_count": 18,
   "metadata": {},
   "outputs": [],
   "source": [
    "data = [data_12,data_13,data_14,data_15,data_16]"
   ]
  },
  {
   "cell_type": "code",
   "execution_count": 19,
   "metadata": {},
   "outputs": [
    {
     "name": "stderr",
     "output_type": "stream",
     "text": [
      "/usr/local/Anaconda3-5.0.0-Linux-x86_64/envs/ADS/lib/python3.5/site-packages/pandas/core/frame.py:6211: FutureWarning: Sorting because non-concatenation axis is not aligned. A future version\n",
      "of pandas will change to not sort by default.\n",
      "\n",
      "To accept the future behavior, pass 'sort=False'.\n",
      "\n",
      "To retain the current behavior and silence the warning, pass 'sort=True'.\n",
      "\n",
      "  sort=sort)\n"
     ]
    }
   ],
   "source": [
    "df = data_11.append(data)"
   ]
  },
  {
   "cell_type": "code",
   "execution_count": 35,
   "metadata": {},
   "outputs": [
    {
     "data": {
      "text/html": [
       "<div>\n",
       "<style scoped>\n",
       "    .dataframe tbody tr th:only-of-type {\n",
       "        vertical-align: middle;\n",
       "    }\n",
       "\n",
       "    .dataframe tbody tr th {\n",
       "        vertical-align: top;\n",
       "    }\n",
       "\n",
       "    .dataframe thead th {\n",
       "        text-align: right;\n",
       "    }\n",
       "</style>\n",
       "<table border=\"1\" class=\"dataframe\">\n",
       "  <thead>\n",
       "    <tr style=\"text-align: right;\">\n",
       "      <th></th>\n",
       "      <th>Ft</th>\n",
       "      <th>MP</th>\n",
       "      <th>MS</th>\n",
       "      <th>at1 (mm)</th>\n",
       "      <th>at2 (mm)</th>\n",
       "      <th>e (g/km)</th>\n",
       "      <th>ec (cm3)</th>\n",
       "      <th>ep (KW)</th>\n",
       "      <th>m (kg)</th>\n",
       "      <th>w (mm)</th>\n",
       "      <th>year</th>\n",
       "    </tr>\n",
       "  </thead>\n",
       "  <tbody>\n",
       "    <tr>\n",
       "      <th>0</th>\n",
       "      <td>Petrol</td>\n",
       "      <td>NaN</td>\n",
       "      <td>AT</td>\n",
       "      <td>1468.0</td>\n",
       "      <td>1471.0</td>\n",
       "      <td>155.0</td>\n",
       "      <td>1598.0</td>\n",
       "      <td>NaN</td>\n",
       "      <td>1240.0</td>\n",
       "      <td>2452.0</td>\n",
       "      <td>2011</td>\n",
       "    </tr>\n",
       "    <tr>\n",
       "      <th>1</th>\n",
       "      <td>Petrol</td>\n",
       "      <td>NaN</td>\n",
       "      <td>AT</td>\n",
       "      <td>1537.0</td>\n",
       "      <td>1575.0</td>\n",
       "      <td>314.0</td>\n",
       "      <td>5666.0</td>\n",
       "      <td>NaN</td>\n",
       "      <td>1225.0</td>\n",
       "      <td>2575.0</td>\n",
       "      <td>2011</td>\n",
       "    </tr>\n",
       "    <tr>\n",
       "      <th>2</th>\n",
       "      <td>Electric</td>\n",
       "      <td>NaN</td>\n",
       "      <td>AT</td>\n",
       "      <td>1220.0</td>\n",
       "      <td>1220.0</td>\n",
       "      <td>0.0</td>\n",
       "      <td>NaN</td>\n",
       "      <td>NaN</td>\n",
       "      <td>1415.0</td>\n",
       "      <td>1810.0</td>\n",
       "      <td>2011</td>\n",
       "    </tr>\n",
       "    <tr>\n",
       "      <th>3</th>\n",
       "      <td>Diesel</td>\n",
       "      <td>NaN</td>\n",
       "      <td>AT</td>\n",
       "      <td>1565.0</td>\n",
       "      <td>1565.0</td>\n",
       "      <td>NaN</td>\n",
       "      <td>2199.0</td>\n",
       "      <td>NaN</td>\n",
       "      <td>1788.0</td>\n",
       "      <td>2620.0</td>\n",
       "      <td>2011</td>\n",
       "    </tr>\n",
       "    <tr>\n",
       "      <th>4</th>\n",
       "      <td>Diesel</td>\n",
       "      <td>NaN</td>\n",
       "      <td>AT</td>\n",
       "      <td>1565.0</td>\n",
       "      <td>1565.0</td>\n",
       "      <td>NaN</td>\n",
       "      <td>2199.0</td>\n",
       "      <td>NaN</td>\n",
       "      <td>1727.0</td>\n",
       "      <td>2620.0</td>\n",
       "      <td>2011</td>\n",
       "    </tr>\n",
       "  </tbody>\n",
       "</table>\n",
       "</div>"
      ],
      "text/plain": [
       "         Ft   MP  MS  at1 (mm)  at2 (mm)  e (g/km)  ec (cm3)  ep (KW)  m (kg)  \\\n",
       "0    Petrol  NaN  AT    1468.0    1471.0     155.0    1598.0      NaN  1240.0   \n",
       "1    Petrol  NaN  AT    1537.0    1575.0     314.0    5666.0      NaN  1225.0   \n",
       "2  Electric  NaN  AT    1220.0    1220.0       0.0       NaN      NaN  1415.0   \n",
       "3    Diesel  NaN  AT    1565.0    1565.0       NaN    2199.0      NaN  1788.0   \n",
       "4    Diesel  NaN  AT    1565.0    1565.0       NaN    2199.0      NaN  1727.0   \n",
       "\n",
       "   w (mm)  year  \n",
       "0  2452.0  2011  \n",
       "1  2575.0  2011  \n",
       "2  1810.0  2011  \n",
       "3  2620.0  2011  \n",
       "4  2620.0  2011  "
      ]
     },
     "execution_count": 35,
     "metadata": {},
     "output_type": "execute_result"
    }
   ],
   "source": [
    "df.head()"
   ]
  },
  {
   "cell_type": "code",
   "execution_count": 36,
   "metadata": {},
   "outputs": [],
   "source": [
    "pvco2 = df.copy()"
   ]
  },
  {
   "cell_type": "code",
   "execution_count": 37,
   "metadata": {},
   "outputs": [],
   "source": [
    "pvco2.to_csv('pv_co2.csv', sep='\\t')"
   ]
  },
  {
   "cell_type": "code",
   "execution_count": 23,
   "metadata": {},
   "outputs": [],
   "source": [
    "co2_df = df.copy()"
   ]
  },
  {
   "cell_type": "code",
   "execution_count": 24,
   "metadata": {},
   "outputs": [
    {
     "data": {
      "text/plain": [
       "(2509155, 11)"
      ]
     },
     "execution_count": 24,
     "metadata": {},
     "output_type": "execute_result"
    }
   ],
   "source": [
    "co2_df.shape"
   ]
  },
  {
   "cell_type": "code",
   "execution_count": 25,
   "metadata": {},
   "outputs": [],
   "source": [
    "co2_df = co2_df.drop_duplicates()"
   ]
  },
  {
   "cell_type": "code",
   "execution_count": 30,
   "metadata": {},
   "outputs": [
    {
     "data": {
      "text/plain": [
       "(990751, 11)"
      ]
     },
     "execution_count": 30,
     "metadata": {},
     "output_type": "execute_result"
    }
   ],
   "source": [
    "co2_df.shape"
   ]
  },
  {
   "cell_type": "code",
   "execution_count": 31,
   "metadata": {},
   "outputs": [
    {
     "data": {
      "text/plain": [
       "Ft           True\n",
       "MP           True\n",
       "MS          False\n",
       "at1 (mm)     True\n",
       "at2 (mm)     True\n",
       "e (g/km)     True\n",
       "ec (cm3)     True\n",
       "ep (KW)      True\n",
       "m (kg)       True\n",
       "w (mm)       True\n",
       "year        False\n",
       "dtype: bool"
      ]
     },
     "execution_count": 31,
     "metadata": {},
     "output_type": "execute_result"
    }
   ],
   "source": [
    "co2_df.isnull().any()"
   ]
  },
  {
   "cell_type": "code",
   "execution_count": 32,
   "metadata": {},
   "outputs": [],
   "source": [
    "co2_df.to_csv('co2.csv', sep='\\t')"
   ]
  },
  {
   "cell_type": "code",
   "execution_count": 25,
   "metadata": {},
   "outputs": [],
   "source": [
    "df = df.rename(columns={'e (g/km)': 'emission',\n",
    "                              'm (kg)': 'mass', \n",
    "                              'w (mm)': 'wheel', \n",
    "                              'ep (KW)': 'eng_pow'})"
   ]
  },
  {
   "cell_type": "code",
   "execution_count": 26,
   "metadata": {},
   "outputs": [
    {
     "data": {
      "text/html": [
       "<div>\n",
       "<style scoped>\n",
       "    .dataframe tbody tr th:only-of-type {\n",
       "        vertical-align: middle;\n",
       "    }\n",
       "\n",
       "    .dataframe tbody tr th {\n",
       "        vertical-align: top;\n",
       "    }\n",
       "\n",
       "    .dataframe thead th {\n",
       "        text-align: right;\n",
       "    }\n",
       "</style>\n",
       "<table border=\"1\" class=\"dataframe\">\n",
       "  <thead>\n",
       "    <tr style=\"text-align: right;\">\n",
       "      <th></th>\n",
       "      <th>emission</th>\n",
       "      <th>mass</th>\n",
       "      <th>wheel</th>\n",
       "      <th>eng_pow</th>\n",
       "      <th>year</th>\n",
       "    </tr>\n",
       "  </thead>\n",
       "  <tbody>\n",
       "    <tr>\n",
       "      <th>0</th>\n",
       "      <td>155.0</td>\n",
       "      <td>1240.0</td>\n",
       "      <td>2452.0</td>\n",
       "      <td>NaN</td>\n",
       "      <td>2011</td>\n",
       "    </tr>\n",
       "    <tr>\n",
       "      <th>1</th>\n",
       "      <td>314.0</td>\n",
       "      <td>1225.0</td>\n",
       "      <td>2575.0</td>\n",
       "      <td>NaN</td>\n",
       "      <td>2011</td>\n",
       "    </tr>\n",
       "    <tr>\n",
       "      <th>2</th>\n",
       "      <td>0.0</td>\n",
       "      <td>1415.0</td>\n",
       "      <td>1810.0</td>\n",
       "      <td>NaN</td>\n",
       "      <td>2011</td>\n",
       "    </tr>\n",
       "    <tr>\n",
       "      <th>3</th>\n",
       "      <td>NaN</td>\n",
       "      <td>1788.0</td>\n",
       "      <td>2620.0</td>\n",
       "      <td>NaN</td>\n",
       "      <td>2011</td>\n",
       "    </tr>\n",
       "    <tr>\n",
       "      <th>4</th>\n",
       "      <td>NaN</td>\n",
       "      <td>1727.0</td>\n",
       "      <td>2620.0</td>\n",
       "      <td>NaN</td>\n",
       "      <td>2011</td>\n",
       "    </tr>\n",
       "  </tbody>\n",
       "</table>\n",
       "</div>"
      ],
      "text/plain": [
       "   emission    mass   wheel  eng_pow  year\n",
       "0     155.0  1240.0  2452.0      NaN  2011\n",
       "1     314.0  1225.0  2575.0      NaN  2011\n",
       "2       0.0  1415.0  1810.0      NaN  2011\n",
       "3       NaN  1788.0  2620.0      NaN  2011\n",
       "4       NaN  1727.0  2620.0      NaN  2011"
      ]
     },
     "execution_count": 26,
     "metadata": {},
     "output_type": "execute_result"
    }
   ],
   "source": [
    "df.head()"
   ]
  },
  {
   "cell_type": "code",
   "execution_count": 27,
   "metadata": {},
   "outputs": [
    {
     "data": {
      "text/plain": [
       "emission     True\n",
       "mass         True\n",
       "wheel        True\n",
       "eng_pow      True\n",
       "year        False\n",
       "dtype: bool"
      ]
     },
     "execution_count": 27,
     "metadata": {},
     "output_type": "execute_result"
    }
   ],
   "source": [
    "df.isnull().any()"
   ]
  },
  {
   "cell_type": "code",
   "execution_count": 28,
   "metadata": {},
   "outputs": [],
   "source": [
    "num_cols=['emission','mass','wheel','eng_pow']"
   ]
  },
  {
   "cell_type": "code",
   "execution_count": 29,
   "metadata": {},
   "outputs": [],
   "source": [
    "df = df.apply(lambda x: x.fillna(x.mean()), axis=0)"
   ]
  },
  {
   "cell_type": "code",
   "execution_count": 30,
   "metadata": {},
   "outputs": [
    {
     "data": {
      "text/plain": [
       "emission    False\n",
       "mass        False\n",
       "wheel       False\n",
       "eng_pow     False\n",
       "year        False\n",
       "dtype: bool"
      ]
     },
     "execution_count": 30,
     "metadata": {},
     "output_type": "execute_result"
    }
   ],
   "source": [
    "df.isnull().any()"
   ]
  },
  {
   "cell_type": "code",
   "execution_count": 1,
   "metadata": {},
   "outputs": [
    {
     "ename": "NameError",
     "evalue": "name 'df' is not defined",
     "output_type": "error",
     "traceback": [
      "\u001b[0;31m---------------------------------------------------------------------------\u001b[0m",
      "\u001b[0;31mNameError\u001b[0m                                 Traceback (most recent call last)",
      "\u001b[0;32m<ipython-input-1-c42a15b2c7cf>\u001b[0m in \u001b[0;36m<module>\u001b[0;34m()\u001b[0m\n\u001b[0;32m----> 1\u001b[0;31m \u001b[0mdf\u001b[0m\u001b[0;34m.\u001b[0m\u001b[0mhead\u001b[0m\u001b[0;34m(\u001b[0m\u001b[0;34m)\u001b[0m\u001b[0;34m\u001b[0m\u001b[0m\n\u001b[0m",
      "\u001b[0;31mNameError\u001b[0m: name 'df' is not defined"
     ]
    }
   ],
   "source": [
    "df.head()"
   ]
  },
  {
   "cell_type": "code",
   "execution_count": 32,
   "metadata": {},
   "outputs": [
    {
     "data": {
      "text/html": [
       "<div>\n",
       "<style scoped>\n",
       "    .dataframe tbody tr th:only-of-type {\n",
       "        vertical-align: middle;\n",
       "    }\n",
       "\n",
       "    .dataframe tbody tr th {\n",
       "        vertical-align: top;\n",
       "    }\n",
       "\n",
       "    .dataframe thead th {\n",
       "        text-align: right;\n",
       "    }\n",
       "</style>\n",
       "<table border=\"1\" class=\"dataframe\">\n",
       "  <thead>\n",
       "    <tr style=\"text-align: right;\">\n",
       "      <th></th>\n",
       "      <th>emission</th>\n",
       "      <th>mass</th>\n",
       "      <th>wheel</th>\n",
       "      <th>eng_pow</th>\n",
       "      <th>year</th>\n",
       "    </tr>\n",
       "  </thead>\n",
       "  <tbody>\n",
       "    <tr>\n",
       "      <th>count</th>\n",
       "      <td>2.509155e+06</td>\n",
       "      <td>2.509155e+06</td>\n",
       "      <td>2.509155e+06</td>\n",
       "      <td>2.509155e+06</td>\n",
       "      <td>2.509155e+06</td>\n",
       "    </tr>\n",
       "    <tr>\n",
       "      <th>mean</th>\n",
       "      <td>1.405333e+02</td>\n",
       "      <td>1.536619e+03</td>\n",
       "      <td>2.703337e+03</td>\n",
       "      <td>1.145390e+02</td>\n",
       "      <td>2.013689e+03</td>\n",
       "    </tr>\n",
       "    <tr>\n",
       "      <th>std</th>\n",
       "      <td>3.869348e+01</td>\n",
       "      <td>3.224027e+02</td>\n",
       "      <td>2.152864e+02</td>\n",
       "      <td>5.191623e+01</td>\n",
       "      <td>1.689926e+00</td>\n",
       "    </tr>\n",
       "    <tr>\n",
       "      <th>min</th>\n",
       "      <td>0.000000e+00</td>\n",
       "      <td>3.000000e+02</td>\n",
       "      <td>2.430000e+02</td>\n",
       "      <td>0.000000e+00</td>\n",
       "      <td>2.011000e+03</td>\n",
       "    </tr>\n",
       "    <tr>\n",
       "      <th>25%</th>\n",
       "      <td>1.160000e+02</td>\n",
       "      <td>1.320000e+03</td>\n",
       "      <td>2.600000e+03</td>\n",
       "      <td>8.400000e+01</td>\n",
       "      <td>2.012000e+03</td>\n",
       "    </tr>\n",
       "    <tr>\n",
       "      <th>50%</th>\n",
       "      <td>1.340000e+02</td>\n",
       "      <td>1.503000e+03</td>\n",
       "      <td>2.685000e+03</td>\n",
       "      <td>1.100000e+02</td>\n",
       "      <td>2.014000e+03</td>\n",
       "    </tr>\n",
       "    <tr>\n",
       "      <th>75%</th>\n",
       "      <td>1.560000e+02</td>\n",
       "      <td>1.701000e+03</td>\n",
       "      <td>2.789000e+03</td>\n",
       "      <td>1.200000e+02</td>\n",
       "      <td>2.015000e+03</td>\n",
       "    </tr>\n",
       "    <tr>\n",
       "      <th>max</th>\n",
       "      <td>9.800000e+02</td>\n",
       "      <td>6.500000e+03</td>\n",
       "      <td>6.100000e+03</td>\n",
       "      <td>1.770000e+03</td>\n",
       "      <td>2.016000e+03</td>\n",
       "    </tr>\n",
       "  </tbody>\n",
       "</table>\n",
       "</div>"
      ],
      "text/plain": [
       "           emission          mass         wheel       eng_pow          year\n",
       "count  2.509155e+06  2.509155e+06  2.509155e+06  2.509155e+06  2.509155e+06\n",
       "mean   1.405333e+02  1.536619e+03  2.703337e+03  1.145390e+02  2.013689e+03\n",
       "std    3.869348e+01  3.224027e+02  2.152864e+02  5.191623e+01  1.689926e+00\n",
       "min    0.000000e+00  3.000000e+02  2.430000e+02  0.000000e+00  2.011000e+03\n",
       "25%    1.160000e+02  1.320000e+03  2.600000e+03  8.400000e+01  2.012000e+03\n",
       "50%    1.340000e+02  1.503000e+03  2.685000e+03  1.100000e+02  2.014000e+03\n",
       "75%    1.560000e+02  1.701000e+03  2.789000e+03  1.200000e+02  2.015000e+03\n",
       "max    9.800000e+02  6.500000e+03  6.100000e+03  1.770000e+03  2.016000e+03"
      ]
     },
     "execution_count": 32,
     "metadata": {},
     "output_type": "execute_result"
    }
   ],
   "source": [
    "df.describe(include='all')"
   ]
  },
  {
   "cell_type": "code",
   "execution_count": 33,
   "metadata": {},
   "outputs": [
    {
     "data": {
      "text/plain": [
       "<matplotlib.axes._subplots.AxesSubplot at 0x7fc51e3afeb8>"
      ]
     },
     "execution_count": 33,
     "metadata": {},
     "output_type": "execute_result"
    },
    {
     "data": {
      "image/png": "[encoded data removed]",
      "text/plain": [
       "<matplotlib.figure.Figure at 0x7fc51e3d5e48>"
      ]
     },
     "metadata": {
      "needs_background": "light"
     },
     "output_type": "display_data"
    }
   ],
   "source": [
    "sns.heatmap(df.corr(), cmap='coolwarm', annot=True)"
   ]
  },
  {
   "cell_type": "markdown",
   "metadata": {},
   "source": [
    "## Time series Visualization on features"
   ]
  },
  {
   "cell_type": "code",
   "execution_count": 34,
   "metadata": {},
   "outputs": [],
   "source": [
    "np.random.seed(999)\n",
    "df['month'] = np.random.randint(1,13,df.shape[0])\n",
    "df['day'] = np.random.randint(1,29, df.shape[0])"
   ]
  },
  {
   "cell_type": "code",
   "execution_count": 35,
   "metadata": {},
   "outputs": [
    {
     "data": {
      "text/html": [
       "<div>\n",
       "<style scoped>\n",
       "    .dataframe tbody tr th:only-of-type {\n",
       "        vertical-align: middle;\n",
       "    }\n",
       "\n",
       "    .dataframe tbody tr th {\n",
       "        vertical-align: top;\n",
       "    }\n",
       "\n",
       "    .dataframe thead th {\n",
       "        text-align: right;\n",
       "    }\n",
       "</style>\n",
       "<table border=\"1\" class=\"dataframe\">\n",
       "  <thead>\n",
       "    <tr style=\"text-align: right;\">\n",
       "      <th></th>\n",
       "      <th>emission</th>\n",
       "      <th>mass</th>\n",
       "      <th>wheel</th>\n",
       "      <th>eng_pow</th>\n",
       "      <th>year</th>\n",
       "      <th>month</th>\n",
       "      <th>day</th>\n",
       "    </tr>\n",
       "  </thead>\n",
       "  <tbody>\n",
       "    <tr>\n",
       "      <th>0</th>\n",
       "      <td>155.000000</td>\n",
       "      <td>1240.0</td>\n",
       "      <td>2452.0</td>\n",
       "      <td>114.53899</td>\n",
       "      <td>2011</td>\n",
       "      <td>1</td>\n",
       "      <td>28</td>\n",
       "    </tr>\n",
       "    <tr>\n",
       "      <th>1</th>\n",
       "      <td>314.000000</td>\n",
       "      <td>1225.0</td>\n",
       "      <td>2575.0</td>\n",
       "      <td>114.53899</td>\n",
       "      <td>2011</td>\n",
       "      <td>6</td>\n",
       "      <td>20</td>\n",
       "    </tr>\n",
       "    <tr>\n",
       "      <th>2</th>\n",
       "      <td>0.000000</td>\n",
       "      <td>1415.0</td>\n",
       "      <td>1810.0</td>\n",
       "      <td>114.53899</td>\n",
       "      <td>2011</td>\n",
       "      <td>2</td>\n",
       "      <td>20</td>\n",
       "    </tr>\n",
       "    <tr>\n",
       "      <th>3</th>\n",
       "      <td>140.533296</td>\n",
       "      <td>1788.0</td>\n",
       "      <td>2620.0</td>\n",
       "      <td>114.53899</td>\n",
       "      <td>2011</td>\n",
       "      <td>9</td>\n",
       "      <td>23</td>\n",
       "    </tr>\n",
       "    <tr>\n",
       "      <th>4</th>\n",
       "      <td>140.533296</td>\n",
       "      <td>1727.0</td>\n",
       "      <td>2620.0</td>\n",
       "      <td>114.53899</td>\n",
       "      <td>2011</td>\n",
       "      <td>2</td>\n",
       "      <td>23</td>\n",
       "    </tr>\n",
       "  </tbody>\n",
       "</table>\n",
       "</div>"
      ],
      "text/plain": [
       "     emission    mass   wheel    eng_pow  year  month  day\n",
       "0  155.000000  1240.0  2452.0  114.53899  2011      1   28\n",
       "1  314.000000  1225.0  2575.0  114.53899  2011      6   20\n",
       "2    0.000000  1415.0  1810.0  114.53899  2011      2   20\n",
       "3  140.533296  1788.0  2620.0  114.53899  2011      9   23\n",
       "4  140.533296  1727.0  2620.0  114.53899  2011      2   23"
      ]
     },
     "execution_count": 35,
     "metadata": {},
     "output_type": "execute_result"
    }
   ],
   "source": [
    "df.head()"
   ]
  },
  {
   "cell_type": "code",
   "execution_count": 36,
   "metadata": {},
   "outputs": [],
   "source": [
    "df.index = pd.to_datetime(df[['year','month','day']])\n",
    "\n",
    "\n",
    "\n",
    "#df.index = pd.to_datetime(df['year'].astype(str) + df['Month'] + df, format='%Y-%B')"
   ]
  },
  {
   "cell_type": "code",
   "execution_count": 37,
   "metadata": {},
   "outputs": [
    {
     "data": {
      "text/html": [
       "<div>\n",
       "<style scoped>\n",
       "    .dataframe tbody tr th:only-of-type {\n",
       "        vertical-align: middle;\n",
       "    }\n",
       "\n",
       "    .dataframe tbody tr th {\n",
       "        vertical-align: top;\n",
       "    }\n",
       "\n",
       "    .dataframe thead th {\n",
       "        text-align: right;\n",
       "    }\n",
       "</style>\n",
       "<table border=\"1\" class=\"dataframe\">\n",
       "  <thead>\n",
       "    <tr style=\"text-align: right;\">\n",
       "      <th></th>\n",
       "      <th>emission</th>\n",
       "      <th>mass</th>\n",
       "      <th>wheel</th>\n",
       "      <th>eng_pow</th>\n",
       "      <th>year</th>\n",
       "      <th>month</th>\n",
       "      <th>day</th>\n",
       "    </tr>\n",
       "  </thead>\n",
       "  <tbody>\n",
       "    <tr>\n",
       "      <th>2011-01-28</th>\n",
       "      <td>155.000000</td>\n",
       "      <td>1240.0</td>\n",
       "      <td>2452.0</td>\n",
       "      <td>114.53899</td>\n",
       "      <td>2011</td>\n",
       "      <td>1</td>\n",
       "      <td>28</td>\n",
       "    </tr>\n",
       "    <tr>\n",
       "      <th>2011-06-20</th>\n",
       "      <td>314.000000</td>\n",
       "      <td>1225.0</td>\n",
       "      <td>2575.0</td>\n",
       "      <td>114.53899</td>\n",
       "      <td>2011</td>\n",
       "      <td>6</td>\n",
       "      <td>20</td>\n",
       "    </tr>\n",
       "    <tr>\n",
       "      <th>2011-02-20</th>\n",
       "      <td>0.000000</td>\n",
       "      <td>1415.0</td>\n",
       "      <td>1810.0</td>\n",
       "      <td>114.53899</td>\n",
       "      <td>2011</td>\n",
       "      <td>2</td>\n",
       "      <td>20</td>\n",
       "    </tr>\n",
       "    <tr>\n",
       "      <th>2011-09-23</th>\n",
       "      <td>140.533296</td>\n",
       "      <td>1788.0</td>\n",
       "      <td>2620.0</td>\n",
       "      <td>114.53899</td>\n",
       "      <td>2011</td>\n",
       "      <td>9</td>\n",
       "      <td>23</td>\n",
       "    </tr>\n",
       "    <tr>\n",
       "      <th>2011-02-23</th>\n",
       "      <td>140.533296</td>\n",
       "      <td>1727.0</td>\n",
       "      <td>2620.0</td>\n",
       "      <td>114.53899</td>\n",
       "      <td>2011</td>\n",
       "      <td>2</td>\n",
       "      <td>23</td>\n",
       "    </tr>\n",
       "  </tbody>\n",
       "</table>\n",
       "</div>"
      ],
      "text/plain": [
       "              emission    mass   wheel    eng_pow  year  month  day\n",
       "2011-01-28  155.000000  1240.0  2452.0  114.53899  2011      1   28\n",
       "2011-06-20  314.000000  1225.0  2575.0  114.53899  2011      6   20\n",
       "2011-02-20    0.000000  1415.0  1810.0  114.53899  2011      2   20\n",
       "2011-09-23  140.533296  1788.0  2620.0  114.53899  2011      9   23\n",
       "2011-02-23  140.533296  1727.0  2620.0  114.53899  2011      2   23"
      ]
     },
     "execution_count": 37,
     "metadata": {},
     "output_type": "execute_result"
    }
   ],
   "source": [
    "df.head()"
   ]
  },
  {
   "cell_type": "code",
   "execution_count": 38,
   "metadata": {},
   "outputs": [],
   "source": [
    "df.to_csv('output.csv',sep='\\t')"
   ]
  },
  {
   "cell_type": "code",
   "execution_count": 352,
   "metadata": {},
   "outputs": [],
   "source": [
    "emission_mean = df.emission.resample('M').mean()\n",
    "emission_sum = df.emission.resample('M').sum()\n",
    "mass_mean = df.mass.resample('M').mean()\n",
    "wheel = df.wheel.resample('M').mean()\n",
    "eng_pow = df.eng_pow.resample('M').mean()"
   ]
  },
  {
   "cell_type": "code",
   "execution_count": 359,
   "metadata": {},
   "outputs": [
    {
     "data": {
      "image/png": "[encoded data removed]",
      "text/plain": [
       "<matplotlib.figure.Figure at 0x7f97a9134e10>"
      ]
     },
     "metadata": {
      "needs_background": "light"
     },
     "output_type": "display_data"
    }
   ],
   "source": [
    "def tm_plot(func, series1, series2, series3,series4,series5):\n",
    "    fig, ax = plt.subplots(2,figsize=(15,10))\n",
    "    \n",
    "    plt.subplot(511)\n",
    "    func(series1)\n",
    "    plt.title('{} {}'.format(series1.name, func.__name__).replace('_', ' ').title())\n",
    "    \n",
    "    plt.subplot(512)\n",
    "    func(series2)\n",
    "    plt.title('{} {}'.format(series2.name, func.__name__).replace('_', ' ').title())\n",
    "\n",
    "    plt.subplot(513)\n",
    "    func(series3)\n",
    "    plt.title('{} {}'.format(series3.name, func.__name__).replace('_', ' ').title())\n",
    "\n",
    "    plt.subplot(514)\n",
    "    func(series4)\n",
    "    plt.title('{} {}'.format(series4.name, func.__name__).replace('_', ' ').title())\n",
    "\n",
    "    plt.subplot(515)\n",
    "    func(series5)\n",
    "    plt.title('{} {}'.format(series5.name, func.__name__).replace('_', ' ').title())\n",
    "\n",
    "    plt.tight_layout()\n",
    "    plt.show()\n",
    "    \n",
    "tm_plot(plt.plot, emission_mean, emission_sum, mass_mean, wheel, eng_pow)\n"
   ]
  },
  {
   "cell_type": "code",
   "execution_count": 366,
   "metadata": {},
   "outputs": [
    {
     "data": {
      "image/png": "[encoded data removed]",
      "text/plain": [
       "<matplotlib.figure.Figure at 0x7f97411a0470>"
      ]
     },
     "metadata": {
      "needs_background": "light"
     },
     "output_type": "display_data"
    },
    {
     "data": {
      "image/png": "[encoded data removed]",
      "text/plain": [
       "<matplotlib.figure.Figure at 0x7f97edc1e198>"
      ]
     },
     "metadata": {
      "needs_background": "light"
     },
     "output_type": "display_data"
    },
    {
     "data": {
      "image/png": "[encoded data removed]",
      "text/plain": [
       "<matplotlib.figure.Figure at 0x7f9749a67ac8>"
      ]
     },
     "metadata": {
      "needs_background": "light"
     },
     "output_type": "display_data"
    }
   ],
   "source": [
    "#count the average emission and see the trend from 2011-2016\n",
    "#years = [2011,2012,2013,2014,2015,2016]\n",
    "#target = [130,130,130,130,130,130]\n",
    "emission_mean = df.emission.resample('D').mean()\n",
    "plt.figure(figsize=(12,6))\n",
    "plt.plot(emission_mean)\n",
    "plt.ylabel('emission')\n",
    "plt.show()\n",
    "\n",
    "plt.figure(figsize=(12,6))\n",
    "plt.plot(df.emission.resample('M').mean())\n",
    "plt.ylabel('emission')\n",
    "plt.show()\n",
    "\n",
    "plt.figure(figsize=(12,6))\n",
    "plt.plot(df.emission.resample('Y').mean())\n",
    "plt.ylabel('emission')\n",
    "plt.show()\n",
    "#df.emission.resample('M').sum().plot()\n",
    "#plt.ylabel('emission')\n",
    "#plt.show()"
   ]
  },
  {
   "cell_type": "code",
   "execution_count": 358,
   "metadata": {},
   "outputs": [
    {
     "data": {
      "image/png": "[encoded data removed]",
      "text/plain": [
       "<matplotlib.figure.Figure at 0x7f97edab8438>"
      ]
     },
     "metadata": {
      "needs_background": "light"
     },
     "output_type": "display_data"
    }
   ],
   "source": [
    "cols = [0,1,2,3]\n",
    "i = 1\n",
    "groups = cols\n",
    "values = df.resample('M').mean().values\n",
    "\n",
    "plt.figure(figsize=(15,10))\n",
    "for group in groups:\n",
    "    plt.subplot(len(cols), 1, i)\n",
    "    plt.plot(values[:, group])\n",
    "    plt.title(df.columns[group], y=0.75, loc='right')\n",
    "    i += 1\n",
    "plt.show()"
   ]
  },
  {
   "cell_type": "markdown",
   "metadata": {},
   "source": [
    "## test stationary"
   ]
  },
  {
   "cell_type": "code",
   "execution_count": 369,
   "metadata": {},
   "outputs": [
    {
     "data": {
      "text/plain": [
       "[<matplotlib.lines.Line2D at 0x7f97a8e74a58>]"
      ]
     },
     "execution_count": 369,
     "metadata": {},
     "output_type": "execute_result"
    },
    {
     "data": {
      "image/png": "[encoded data removed]",
      "text/plain": [
       "<matplotlib.figure.Figure at 0x7f97ed61e898>"
      ]
     },
     "metadata": {
      "needs_background": "light"
     },
     "output_type": "display_data"
    }
   ],
   "source": [
    "plt.plot(df.emission.resample('M').mean())"
   ]
  },
  {
   "cell_type": "markdown",
   "metadata": {},
   "source": [
    "decreasing trend from 2011 to 2017"
   ]
  },
  {
   "cell_type": "markdown",
   "metadata": {},
   "source": [
    "## ARIMA models"
   ]
  },
  {
   "cell_type": "code",
   "execution_count": null,
   "metadata": {},
   "outputs": [],
   "source": []
  },
  {
   "cell_type": "markdown",
   "metadata": {},
   "source": [
    "## Apply SVM"
   ]
  },
  {
   "cell_type": "code",
   "execution_count": 361,
   "metadata": {},
   "outputs": [
    {
     "ename": "NameError",
     "evalue": "name 'autocorrelation_plot' is not defined",
     "output_type": "error",
     "traceback": [
      "\u001b[0;31m---------------------------------------------------------------------------\u001b[0m",
      "\u001b[0;31mNameError\u001b[0m                                 Traceback (most recent call last)",
      "\u001b[0;32m<ipython-input-361-c3e58297e74b>\u001b[0m in \u001b[0;36m<module>\u001b[0;34m()\u001b[0m\n\u001b[0;32m----> 1\u001b[0;31m \u001b[0mautocorrelation_plot\u001b[0m\u001b[0;34m(\u001b[0m\u001b[0mSeries\u001b[0m\u001b[0;34m.\u001b[0m\u001b[0mdf\u001b[0m\u001b[0;34m.\u001b[0m\u001b[0memission\u001b[0m\u001b[0;34m)\u001b[0m\u001b[0;34m\u001b[0m\u001b[0m\n\u001b[0m",
      "\u001b[0;31mNameError\u001b[0m: name 'autocorrelation_plot' is not defined"
     ]
    }
   ],
   "source": [
    "autocorrelation_plot(Series.df.emission)"
   ]
  },
  {
   "cell_type": "code",
   "execution_count": 339,
   "metadata": {},
   "outputs": [
    {
     "data": {
      "text/html": [
       "<div>\n",
       "<style scoped>\n",
       "    .dataframe tbody tr th:only-of-type {\n",
       "        vertical-align: middle;\n",
       "    }\n",
       "\n",
       "    .dataframe tbody tr th {\n",
       "        vertical-align: top;\n",
       "    }\n",
       "\n",
       "    .dataframe thead th {\n",
       "        text-align: right;\n",
       "    }\n",
       "</style>\n",
       "<table border=\"1\" class=\"dataframe\">\n",
       "  <thead>\n",
       "    <tr style=\"text-align: right;\">\n",
       "      <th></th>\n",
       "      <th>emission</th>\n",
       "      <th>mass</th>\n",
       "      <th>wheel</th>\n",
       "      <th>eng_pow</th>\n",
       "      <th>year</th>\n",
       "      <th>month</th>\n",
       "      <th>day</th>\n",
       "    </tr>\n",
       "  </thead>\n",
       "  <tbody>\n",
       "    <tr>\n",
       "      <th>2011-01-28</th>\n",
       "      <td>155.000000</td>\n",
       "      <td>1240.0</td>\n",
       "      <td>2452.0</td>\n",
       "      <td>114.53899</td>\n",
       "      <td>2011</td>\n",
       "      <td>1</td>\n",
       "      <td>28</td>\n",
       "    </tr>\n",
       "    <tr>\n",
       "      <th>2011-06-20</th>\n",
       "      <td>314.000000</td>\n",
       "      <td>1225.0</td>\n",
       "      <td>2575.0</td>\n",
       "      <td>114.53899</td>\n",
       "      <td>2011</td>\n",
       "      <td>6</td>\n",
       "      <td>20</td>\n",
       "    </tr>\n",
       "    <tr>\n",
       "      <th>2011-02-20</th>\n",
       "      <td>0.000000</td>\n",
       "      <td>1415.0</td>\n",
       "      <td>1810.0</td>\n",
       "      <td>114.53899</td>\n",
       "      <td>2011</td>\n",
       "      <td>2</td>\n",
       "      <td>20</td>\n",
       "    </tr>\n",
       "    <tr>\n",
       "      <th>2011-09-23</th>\n",
       "      <td>140.533296</td>\n",
       "      <td>1788.0</td>\n",
       "      <td>2620.0</td>\n",
       "      <td>114.53899</td>\n",
       "      <td>2011</td>\n",
       "      <td>9</td>\n",
       "      <td>23</td>\n",
       "    </tr>\n",
       "    <tr>\n",
       "      <th>2011-02-23</th>\n",
       "      <td>140.533296</td>\n",
       "      <td>1727.0</td>\n",
       "      <td>2620.0</td>\n",
       "      <td>114.53899</td>\n",
       "      <td>2011</td>\n",
       "      <td>2</td>\n",
       "      <td>23</td>\n",
       "    </tr>\n",
       "  </tbody>\n",
       "</table>\n",
       "</div>"
      ],
      "text/plain": [
       "              emission    mass   wheel    eng_pow  year  month  day\n",
       "2011-01-28  155.000000  1240.0  2452.0  114.53899  2011      1   28\n",
       "2011-06-20  314.000000  1225.0  2575.0  114.53899  2011      6   20\n",
       "2011-02-20    0.000000  1415.0  1810.0  114.53899  2011      2   20\n",
       "2011-09-23  140.533296  1788.0  2620.0  114.53899  2011      9   23\n",
       "2011-02-23  140.533296  1727.0  2620.0  114.53899  2011      2   23"
      ]
     },
     "execution_count": 339,
     "metadata": {},
     "output_type": "execute_result"
    }
   ],
   "source": [
    "df.head()"
   ]
  },
  {
   "cell_type": "code",
   "execution_count": 305,
   "metadata": {},
   "outputs": [
    {
     "ename": "NameError",
     "evalue": "name 'date' is not defined",
     "output_type": "error",
     "traceback": [
      "\u001b[0;31m---------------------------------------------------------------------------\u001b[0m",
      "\u001b[0;31mNameError\u001b[0m                                 Traceback (most recent call last)",
      "\u001b[0;32m<ipython-input-305-c4eedaf5a1c1>\u001b[0m in \u001b[0;36m<module>\u001b[0;34m()\u001b[0m\n\u001b[1;32m      1\u001b[0m \u001b[0myears\u001b[0m \u001b[0;34m=\u001b[0m \u001b[0;34m[\u001b[0m\u001b[0;36m2011\u001b[0m\u001b[0;34m,\u001b[0m\u001b[0;36m2012\u001b[0m\u001b[0;34m,\u001b[0m\u001b[0;36m2013\u001b[0m\u001b[0;34m,\u001b[0m\u001b[0;36m2014\u001b[0m\u001b[0;34m,\u001b[0m\u001b[0;36m2015\u001b[0m\u001b[0;34m,\u001b[0m\u001b[0;36m2016\u001b[0m\u001b[0;34m]\u001b[0m\u001b[0;34m\u001b[0m\u001b[0m\n\u001b[1;32m      2\u001b[0m \u001b[0mplt\u001b[0m\u001b[0;34m.\u001b[0m\u001b[0mfigure\u001b[0m\u001b[0;34m(\u001b[0m\u001b[0mfigsize\u001b[0m\u001b[0;34m=\u001b[0m\u001b[0;34m(\u001b[0m\u001b[0;36m12\u001b[0m\u001b[0;34m,\u001b[0m\u001b[0;36m6\u001b[0m\u001b[0;34m)\u001b[0m\u001b[0;34m)\u001b[0m\u001b[0;34m\u001b[0m\u001b[0m\n\u001b[0;32m----> 3\u001b[0;31m \u001b[0mplt\u001b[0m\u001b[0;34m.\u001b[0m\u001b[0mscatter\u001b[0m\u001b[0;34m(\u001b[0m\u001b[0mdate\u001b[0m\u001b[0;34m,\u001b[0m \u001b[0mdf\u001b[0m\u001b[0;34m.\u001b[0m\u001b[0memission\u001b[0m\u001b[0;34m.\u001b[0m\u001b[0mresample\u001b[0m\u001b[0;34m(\u001b[0m\u001b[0;34m'M'\u001b[0m\u001b[0;34m)\u001b[0m\u001b[0;34m.\u001b[0m\u001b[0mmean\u001b[0m\u001b[0;34m(\u001b[0m\u001b[0;34m)\u001b[0m\u001b[0;34m,\u001b[0m \u001b[0ms\u001b[0m\u001b[0;34m=\u001b[0m\u001b[0;36m150\u001b[0m\u001b[0;34m,\u001b[0m\u001b[0malpha\u001b[0m\u001b[0;34m=\u001b[0m\u001b[0;36m0.6\u001b[0m\u001b[0;34m,\u001b[0m\u001b[0medgecolors\u001b[0m\u001b[0;34m=\u001b[0m\u001b[0;34m'none'\u001b[0m\u001b[0;34m,\u001b[0m\u001b[0mcmap\u001b[0m\u001b[0;34m=\u001b[0m\u001b[0;34m'viridis'\u001b[0m\u001b[0;34m)\u001b[0m\u001b[0;34m\u001b[0m\u001b[0m\n\u001b[0m\u001b[1;32m      4\u001b[0m \u001b[0mplt\u001b[0m\u001b[0;34m.\u001b[0m\u001b[0mlegend\u001b[0m\u001b[0;34m(\u001b[0m\u001b[0mloc\u001b[0m\u001b[0;34m=\u001b[0m\u001b[0;34m'best'\u001b[0m\u001b[0;34m)\u001b[0m\u001b[0;34m\u001b[0m\u001b[0m\n\u001b[1;32m      5\u001b[0m \u001b[0mplt\u001b[0m\u001b[0;34m.\u001b[0m\u001b[0mgrid\u001b[0m\u001b[0;34m(\u001b[0m\u001b[0;32mTrue\u001b[0m\u001b[0;34m)\u001b[0m\u001b[0;34m\u001b[0m\u001b[0m\n",
      "\u001b[0;31mNameError\u001b[0m: name 'date' is not defined"
     ]
    },
    {
     "data": {
      "text/plain": [
       "<matplotlib.figure.Figure at 0x7f97eda31dd8>"
      ]
     },
     "metadata": {},
     "output_type": "display_data"
    }
   ],
   "source": [
    "years = [2011,2012,2013,2014,2015,2016]\n",
    "plt.figure(figsize=(12,6))\n",
    "plt.scatter(date, df.emission.resample('M').mean(), s=150,alpha=0.6,edgecolors='none',cmap='viridis')\n",
    "plt.legend(loc='best')\n",
    "plt.grid(True)\n",
    "plt.title([2011,2016])\n",
    "plt.show()"
   ]
  },
  {
   "cell_type": "code",
   "execution_count": 248,
   "metadata": {},
   "outputs": [],
   "source": [
    "svr_rbf = SVR(kernel='rbf')\n",
    "svr_lin = SVR(kernel='linear')"
   ]
  },
  {
   "cell_type": "code",
   "execution_count": 251,
   "metadata": {},
   "outputs": [],
   "source": [
    "year = np.arange(2011, 2017)"
   ]
  },
  {
   "cell_type": "code",
   "execution_count": 252,
   "metadata": {},
   "outputs": [
    {
     "name": "stderr",
     "output_type": "stream",
     "text": [
      "/usr/local/Anaconda3-5.0.0-Linux-x86_64/envs/ADS/lib/python3.5/site-packages/sklearn/svm/base.py:196: FutureWarning: The default value of gamma will change from 'auto' to 'scale' in version 0.22 to account better for unscaled features. Set gamma explicitly to 'auto' or 'scale' to avoid this warning.\n",
      "  \"avoid this warning.\", FutureWarning)\n"
     ]
    }
   ],
   "source": [
    "future = np.arange(2011, 2021)\n",
    "y_rbf = svr_rbf.fit(year[:, np.newaxis], df.emission.resample('Y').mean()).predict(future[:, np.newaxis])"
   ]
  },
  {
   "cell_type": "code",
   "execution_count": 255,
   "metadata": {},
   "outputs": [],
   "source": [
    "y_lin = svr_lin.fit(year[:, np.newaxis], df.emission.resample('Y').mean()).predict(future[:, np.newaxis])"
   ]
  },
  {
   "cell_type": "code",
   "execution_count": 256,
   "metadata": {},
   "outputs": [
    {
     "data": {
      "image/png": "[encoded data removed]",
      "text/plain": [
       "<matplotlib.figure.Figure at 0x7f97edca3a90>"
      ]
     },
     "metadata": {
      "needs_background": "light"
     },
     "output_type": "display_data"
    }
   ],
   "source": [
    "plt.figure(figsize=(12,6))\n",
    "plt.scatter(year, df.emission.resample('Y').mean(), s = 150, alpha=0.6, edgecolors='none', cmap='viridis')\n",
    "plt.plot(future, y_rbf, c='cyan', label='SVR RBF Model')\n",
    "plt.plot(future, y_lin, c='red', label='SVR lin Model')\n",
    "\n",
    "plt.show()"
   ]
  },
  {
   "cell_type": "code",
   "execution_count": null,
   "metadata": {},
   "outputs": [],
   "source": []
  }
 ],
 "metadata": {
  "kernelspec": {
   "display_name": "ADS",
   "language": "python",
   "name": "ads"
  },
  "language_info": {
   "codemirror_mode": {
    "name": "ipython",
    "version": 3
   },
   "file_extension": ".py",
   "mimetype": "text/x-python",
   "name": "python",
   "nbconvert_exporter": "python",
   "pygments_lexer": "ipython3",
   "version": "3.5.0"
  }
 },
 "nbformat": 4,
 "nbformat_minor": 2
}
