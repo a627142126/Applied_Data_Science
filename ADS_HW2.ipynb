{
 "cells": [
  {
   "cell_type": "markdown",
   "metadata": {},
   "source": [
    "# ADS Homework #2\n",
    "Monday 2-5pm Session, Proffessor Tim Savage\n",
    "\n",
    "Please submit this assignment to the NYU Classes 'Assignments' section by 12:00pm on Monday, October 8, strictly labeling the assignments with the format **'ADS_HW1_(your net ID).ipynb'**. Be sure not to confuse Net ID (e.g. 'acs882') with N-number ('N166...'). This homework is here for you to better understand and practice the material; while you may discuss approaches to problems with your classmates (in fact, this is encouraged!), please ensure that all final code submitted is your own. You may reach out to the TA, Alex Shannon, at acs882@nyu.edu at anytime (he hangs out at CUSP a lot, so feel free to say hello). Additionally, Professor Savage will hold office hours on Mondays from 9am-12am; a location for this will be confirmed and communicated shortly."
   ]
  },
  {
   "cell_type": "markdown",
   "metadata": {},
   "source": [
    "### Problem 1 - PM2.5 Concentration in Beijing (50 points)"
   ]
  },
  {
   "cell_type": "markdown",
   "metadata": {},
   "source": [
    "**What is a PM2.5?**<br>\n",
    "“Particulate matter” (PM) is the general term used for a mixture of solid particles and liquid droplets\n",
    "found in the air. The '2.5' specifies particles with aerodynamic diameters less than or equal to 2.5 microns (μm). This is very small - to put in in perspective, it would take about 30 of these, lined up next to each other, to cover the width of a human hair. They result from a variety of activities, including power plants, motor vehicles, airplanes, residential wood burning, forest fires, agricultural burning, volcanic eruptions (hopefully not something to worry about in NYC) and dust storms.<br>\n",
    "**Why is this important to cities?**<br>\n",
    "An extensive body of scientific evidence shows that short- or long-term exposures to fine particles\n",
    "can cause adverse cardiovascular effects, including heart attacks and strokes resulting in\n",
    "hospitalizations and, in some cases, premature death. A number of studies have also linked fine\n",
    "particle exposures to respiratory effects, including the exacerbation of asthma and other respiratory\n",
    "illnesses (short-term exposures) and the impairment of lung development (long-term exposures). In short, PM2.5 poses public health risks, and is something which cities should be knowledgeable about; predicting when PM2.5 concentration will be particularly high could allow the city to issue warnings or place restrictions on certain activities (e.g. driving, industrial activity, etc.).<br>\n",
    "**The Data**<br>\n",
    "We will be looking specifically at Beijing from 2010-2014, using a variety of weather-related variables. Although there exists a time component, and other data sources could be merged to look for additional factors (this could be a great final project - think traffic data, air-taffic data, industrial activity, etc), we will specifically focused on weather for the purposes of this assignment. Please load and take a look at the data below. "
   ]
  },
  {
   "cell_type": "code",
   "execution_count": 144,
   "metadata": {},
   "outputs": [
    {
     "data": {
      "text/html": [
       "<div>\n",
       "<style>\n",
       "    .dataframe thead tr:only-child th {\n",
       "        text-align: right;\n",
       "    }\n",
       "\n",
       "    .dataframe thead th {\n",
       "        text-align: left;\n",
       "    }\n",
       "\n",
       "    .dataframe tbody tr th {\n",
       "        vertical-align: top;\n",
       "    }\n",
       "</style>\n",
       "<table border=\"1\" class=\"dataframe\">\n",
       "  <thead>\n",
       "    <tr style=\"text-align: right;\">\n",
       "      <th></th>\n",
       "      <th>No</th>\n",
       "      <th>year</th>\n",
       "      <th>month</th>\n",
       "      <th>day</th>\n",
       "      <th>hour</th>\n",
       "      <th>pm2.5</th>\n",
       "      <th>DEWP</th>\n",
       "      <th>TEMP</th>\n",
       "      <th>PRES</th>\n",
       "      <th>cbwd</th>\n",
       "      <th>Iws</th>\n",
       "      <th>Is</th>\n",
       "      <th>Ir</th>\n",
       "    </tr>\n",
       "  </thead>\n",
       "  <tbody>\n",
       "    <tr>\n",
       "      <th>0</th>\n",
       "      <td>1</td>\n",
       "      <td>2010</td>\n",
       "      <td>1</td>\n",
       "      <td>1</td>\n",
       "      <td>0</td>\n",
       "      <td>NaN</td>\n",
       "      <td>-21</td>\n",
       "      <td>-11.0</td>\n",
       "      <td>1021.0</td>\n",
       "      <td>NW</td>\n",
       "      <td>1.79</td>\n",
       "      <td>0</td>\n",
       "      <td>0</td>\n",
       "    </tr>\n",
       "    <tr>\n",
       "      <th>1</th>\n",
       "      <td>2</td>\n",
       "      <td>2010</td>\n",
       "      <td>1</td>\n",
       "      <td>1</td>\n",
       "      <td>1</td>\n",
       "      <td>NaN</td>\n",
       "      <td>-21</td>\n",
       "      <td>-12.0</td>\n",
       "      <td>1020.0</td>\n",
       "      <td>NW</td>\n",
       "      <td>4.92</td>\n",
       "      <td>0</td>\n",
       "      <td>0</td>\n",
       "    </tr>\n",
       "    <tr>\n",
       "      <th>2</th>\n",
       "      <td>3</td>\n",
       "      <td>2010</td>\n",
       "      <td>1</td>\n",
       "      <td>1</td>\n",
       "      <td>2</td>\n",
       "      <td>NaN</td>\n",
       "      <td>-21</td>\n",
       "      <td>-11.0</td>\n",
       "      <td>1019.0</td>\n",
       "      <td>NW</td>\n",
       "      <td>6.71</td>\n",
       "      <td>0</td>\n",
       "      <td>0</td>\n",
       "    </tr>\n",
       "  </tbody>\n",
       "</table>\n",
       "</div>"
      ],
      "text/plain": [
       "   No  year  month  day  hour  pm2.5  DEWP  TEMP    PRES cbwd   Iws  Is  Ir\n",
       "0   1  2010      1    1     0    NaN   -21 -11.0  1021.0   NW  1.79   0   0\n",
       "1   2  2010      1    1     1    NaN   -21 -12.0  1020.0   NW  4.92   0   0\n",
       "2   3  2010      1    1     2    NaN   -21 -11.0  1019.0   NW  6.71   0   0"
      ]
     },
     "execution_count": 144,
     "metadata": {},
     "output_type": "execute_result"
    }
   ],
   "source": [
    "# load libraries; read in data\n",
    "import numpy as np\n",
    "import matplotlib.pyplot as plt\n",
    "import pandas as pd\n",
    "import seaborn as sns\n",
    "import statsmodels as sm\n",
    "import statsmodels.formula.api as smf\n",
    "import statsmodels.api as sma\n",
    "%matplotlib inline\n",
    "\n",
    "beijing_pm = pd.read_csv('Beijing_PM2.5.csv')\n",
    "beijing_pm.head(3)"
   ]
  },
  {
   "cell_type": "markdown",
   "metadata": {},
   "source": [
    "#### Description of Data\n",
    "\n",
    "The data can be found, along with descriptions, at the following source: http://archive.ics.uci.edu/ml/datasets/Beijing+PM2.5+Data\n",
    "\n",
    "**Attribute Information:**<br>\n",
    "**No:** row number <br>\n",
    "**year:** year of data in this row <br>\n",
    "**month:** month of data in this row <br>\n",
    "**day:** day of data in this row <br>\n",
    "**hour:** hour of data in this row <br>\n",
    "**pm2.5:** PM2.5 concentration (ug/m^3) <br>\n",
    "**DEWP:** Dew Point (â„ƒ) <br>\n",
    "**TEMP:** Temperature (â„ƒ) <br>\n",
    "**PRES:** Pressure (hPa) <br>\n",
    "**cbwd:** Combined wind direction <br>\n",
    "**Iws:** Cumulated wind speed (m/s) <br>\n",
    "**Is:** Cumulated hours of snow <br>\n",
    "**Ir:** Cumulated hours of rain <br>"
   ]
  },
  {
   "cell_type": "markdown",
   "metadata": {},
   "source": [
    "**1.1)** Data cleaning: As you can see, there are some *n/a* values in our dataframe that need to be removed. Do so, and while you're at it, remove any columns specifying date or time and the wind direction column, as we will not be using these in our analysis. Additionally, decimals should not be used in column names, as this can create problems further down the road - rename 'PM2.5' to simply 'PM25'. (The data are also messy in that the 'I' (i) in the last three columns is indistiguishable from a lower-case 'l' (L) in python's font. Please feel free to rename these to your choosing, however this is not required.) Show the first 5 rows of the cleaned dataset below, then print a descriptive table of the dataset (mean, stdev, etc). **(5 points)**"
   ]
  },
  {
   "cell_type": "code",
   "execution_count": 145,
   "metadata": {},
   "outputs": [
    {
     "name": "stdout",
     "output_type": "stream",
     "text": [
      "<class 'pandas.core.frame.DataFrame'>\n",
      "RangeIndex: 43824 entries, 0 to 43823\n",
      "Data columns (total 8 columns):\n",
      "No       43824 non-null int64\n",
      "pm2.5    41757 non-null float64\n",
      "DEWP     43824 non-null int64\n",
      "TEMP     43824 non-null float64\n",
      "PRES     43824 non-null float64\n",
      "Iws      43824 non-null float64\n",
      "Is       43824 non-null int64\n",
      "Ir       43824 non-null int64\n",
      "dtypes: float64(4), int64(4)\n",
      "memory usage: 2.7 MB\n"
     ]
    },
    {
     "data": {
      "text/plain": [
       "No       43824\n",
       "pm2.5    41757\n",
       "DEWP     43824\n",
       "TEMP     43824\n",
       "PRES     43824\n",
       "Iws      43824\n",
       "Is       43824\n",
       "Ir       43824\n",
       "dtype: int64"
      ]
     },
     "execution_count": 145,
     "metadata": {},
     "output_type": "execute_result"
    }
   ],
   "source": [
    "beijing_pm_new = beijing_pm[['No','pm2.5','DEWP','TEMP','PRES','Iws','Is','Ir']]\n",
    "beijing_pm_new.head(5)\n",
    "beijing_pm_new.info()\n",
    "beijing_pm_new.count()"
   ]
  },
  {
   "cell_type": "code",
   "execution_count": 146,
   "metadata": {},
   "outputs": [
    {
     "data": {
      "text/html": [
       "<div>\n",
       "<style>\n",
       "    .dataframe thead tr:only-child th {\n",
       "        text-align: right;\n",
       "    }\n",
       "\n",
       "    .dataframe thead th {\n",
       "        text-align: left;\n",
       "    }\n",
       "\n",
       "    .dataframe tbody tr th {\n",
       "        vertical-align: top;\n",
       "    }\n",
       "</style>\n",
       "<table border=\"1\" class=\"dataframe\">\n",
       "  <thead>\n",
       "    <tr style=\"text-align: right;\">\n",
       "      <th></th>\n",
       "      <th>No</th>\n",
       "      <th>pm25</th>\n",
       "      <th>DEWP</th>\n",
       "      <th>TEMP</th>\n",
       "      <th>PRES</th>\n",
       "      <th>cws</th>\n",
       "      <th>cs</th>\n",
       "      <th>cr</th>\n",
       "    </tr>\n",
       "  </thead>\n",
       "  <tbody>\n",
       "    <tr>\n",
       "      <th>24</th>\n",
       "      <td>25</td>\n",
       "      <td>129.0</td>\n",
       "      <td>-16</td>\n",
       "      <td>-4.0</td>\n",
       "      <td>1020.0</td>\n",
       "      <td>1.79</td>\n",
       "      <td>0</td>\n",
       "      <td>0</td>\n",
       "    </tr>\n",
       "    <tr>\n",
       "      <th>25</th>\n",
       "      <td>26</td>\n",
       "      <td>148.0</td>\n",
       "      <td>-15</td>\n",
       "      <td>-4.0</td>\n",
       "      <td>1020.0</td>\n",
       "      <td>2.68</td>\n",
       "      <td>0</td>\n",
       "      <td>0</td>\n",
       "    </tr>\n",
       "    <tr>\n",
       "      <th>26</th>\n",
       "      <td>27</td>\n",
       "      <td>159.0</td>\n",
       "      <td>-11</td>\n",
       "      <td>-5.0</td>\n",
       "      <td>1021.0</td>\n",
       "      <td>3.57</td>\n",
       "      <td>0</td>\n",
       "      <td>0</td>\n",
       "    </tr>\n",
       "    <tr>\n",
       "      <th>27</th>\n",
       "      <td>28</td>\n",
       "      <td>181.0</td>\n",
       "      <td>-7</td>\n",
       "      <td>-5.0</td>\n",
       "      <td>1022.0</td>\n",
       "      <td>5.36</td>\n",
       "      <td>1</td>\n",
       "      <td>0</td>\n",
       "    </tr>\n",
       "    <tr>\n",
       "      <th>28</th>\n",
       "      <td>29</td>\n",
       "      <td>138.0</td>\n",
       "      <td>-7</td>\n",
       "      <td>-5.0</td>\n",
       "      <td>1022.0</td>\n",
       "      <td>6.25</td>\n",
       "      <td>2</td>\n",
       "      <td>0</td>\n",
       "    </tr>\n",
       "    <tr>\n",
       "      <th>29</th>\n",
       "      <td>30</td>\n",
       "      <td>109.0</td>\n",
       "      <td>-7</td>\n",
       "      <td>-6.0</td>\n",
       "      <td>1022.0</td>\n",
       "      <td>7.14</td>\n",
       "      <td>3</td>\n",
       "      <td>0</td>\n",
       "    </tr>\n",
       "    <tr>\n",
       "      <th>30</th>\n",
       "      <td>31</td>\n",
       "      <td>105.0</td>\n",
       "      <td>-7</td>\n",
       "      <td>-6.0</td>\n",
       "      <td>1023.0</td>\n",
       "      <td>8.93</td>\n",
       "      <td>4</td>\n",
       "      <td>0</td>\n",
       "    </tr>\n",
       "    <tr>\n",
       "      <th>31</th>\n",
       "      <td>32</td>\n",
       "      <td>124.0</td>\n",
       "      <td>-7</td>\n",
       "      <td>-5.0</td>\n",
       "      <td>1024.0</td>\n",
       "      <td>10.72</td>\n",
       "      <td>0</td>\n",
       "      <td>0</td>\n",
       "    </tr>\n",
       "    <tr>\n",
       "      <th>32</th>\n",
       "      <td>33</td>\n",
       "      <td>120.0</td>\n",
       "      <td>-8</td>\n",
       "      <td>-6.0</td>\n",
       "      <td>1024.0</td>\n",
       "      <td>12.51</td>\n",
       "      <td>0</td>\n",
       "      <td>0</td>\n",
       "    </tr>\n",
       "    <tr>\n",
       "      <th>33</th>\n",
       "      <td>34</td>\n",
       "      <td>132.0</td>\n",
       "      <td>-7</td>\n",
       "      <td>-5.0</td>\n",
       "      <td>1025.0</td>\n",
       "      <td>14.30</td>\n",
       "      <td>0</td>\n",
       "      <td>0</td>\n",
       "    </tr>\n",
       "    <tr>\n",
       "      <th>34</th>\n",
       "      <td>35</td>\n",
       "      <td>140.0</td>\n",
       "      <td>-7</td>\n",
       "      <td>-5.0</td>\n",
       "      <td>1026.0</td>\n",
       "      <td>17.43</td>\n",
       "      <td>1</td>\n",
       "      <td>0</td>\n",
       "    </tr>\n",
       "    <tr>\n",
       "      <th>35</th>\n",
       "      <td>36</td>\n",
       "      <td>152.0</td>\n",
       "      <td>-8</td>\n",
       "      <td>-5.0</td>\n",
       "      <td>1026.0</td>\n",
       "      <td>20.56</td>\n",
       "      <td>0</td>\n",
       "      <td>0</td>\n",
       "    </tr>\n",
       "    <tr>\n",
       "      <th>36</th>\n",
       "      <td>37</td>\n",
       "      <td>148.0</td>\n",
       "      <td>-8</td>\n",
       "      <td>-5.0</td>\n",
       "      <td>1026.0</td>\n",
       "      <td>23.69</td>\n",
       "      <td>0</td>\n",
       "      <td>0</td>\n",
       "    </tr>\n",
       "    <tr>\n",
       "      <th>37</th>\n",
       "      <td>38</td>\n",
       "      <td>164.0</td>\n",
       "      <td>-8</td>\n",
       "      <td>-5.0</td>\n",
       "      <td>1025.0</td>\n",
       "      <td>27.71</td>\n",
       "      <td>0</td>\n",
       "      <td>0</td>\n",
       "    </tr>\n",
       "    <tr>\n",
       "      <th>38</th>\n",
       "      <td>39</td>\n",
       "      <td>158.0</td>\n",
       "      <td>-9</td>\n",
       "      <td>-5.0</td>\n",
       "      <td>1025.0</td>\n",
       "      <td>31.73</td>\n",
       "      <td>0</td>\n",
       "      <td>0</td>\n",
       "    </tr>\n",
       "    <tr>\n",
       "      <th>39</th>\n",
       "      <td>40</td>\n",
       "      <td>154.0</td>\n",
       "      <td>-9</td>\n",
       "      <td>-5.0</td>\n",
       "      <td>1025.0</td>\n",
       "      <td>35.75</td>\n",
       "      <td>0</td>\n",
       "      <td>0</td>\n",
       "    </tr>\n",
       "    <tr>\n",
       "      <th>40</th>\n",
       "      <td>41</td>\n",
       "      <td>159.0</td>\n",
       "      <td>-9</td>\n",
       "      <td>-5.0</td>\n",
       "      <td>1026.0</td>\n",
       "      <td>37.54</td>\n",
       "      <td>0</td>\n",
       "      <td>0</td>\n",
       "    </tr>\n",
       "    <tr>\n",
       "      <th>41</th>\n",
       "      <td>42</td>\n",
       "      <td>164.0</td>\n",
       "      <td>-8</td>\n",
       "      <td>-5.0</td>\n",
       "      <td>1027.0</td>\n",
       "      <td>39.33</td>\n",
       "      <td>0</td>\n",
       "      <td>0</td>\n",
       "    </tr>\n",
       "    <tr>\n",
       "      <th>42</th>\n",
       "      <td>43</td>\n",
       "      <td>170.0</td>\n",
       "      <td>-8</td>\n",
       "      <td>-5.0</td>\n",
       "      <td>1027.0</td>\n",
       "      <td>42.46</td>\n",
       "      <td>0</td>\n",
       "      <td>0</td>\n",
       "    </tr>\n",
       "    <tr>\n",
       "      <th>43</th>\n",
       "      <td>44</td>\n",
       "      <td>149.0</td>\n",
       "      <td>-8</td>\n",
       "      <td>-5.0</td>\n",
       "      <td>1028.0</td>\n",
       "      <td>44.25</td>\n",
       "      <td>0</td>\n",
       "      <td>0</td>\n",
       "    </tr>\n",
       "  </tbody>\n",
       "</table>\n",
       "</div>"
      ],
      "text/plain": [
       "    No   pm25  DEWP  TEMP    PRES    cws  cs  cr\n",
       "24  25  129.0   -16  -4.0  1020.0   1.79   0   0\n",
       "25  26  148.0   -15  -4.0  1020.0   2.68   0   0\n",
       "26  27  159.0   -11  -5.0  1021.0   3.57   0   0\n",
       "27  28  181.0    -7  -5.0  1022.0   5.36   1   0\n",
       "28  29  138.0    -7  -5.0  1022.0   6.25   2   0\n",
       "29  30  109.0    -7  -6.0  1022.0   7.14   3   0\n",
       "30  31  105.0    -7  -6.0  1023.0   8.93   4   0\n",
       "31  32  124.0    -7  -5.0  1024.0  10.72   0   0\n",
       "32  33  120.0    -8  -6.0  1024.0  12.51   0   0\n",
       "33  34  132.0    -7  -5.0  1025.0  14.30   0   0\n",
       "34  35  140.0    -7  -5.0  1026.0  17.43   1   0\n",
       "35  36  152.0    -8  -5.0  1026.0  20.56   0   0\n",
       "36  37  148.0    -8  -5.0  1026.0  23.69   0   0\n",
       "37  38  164.0    -8  -5.0  1025.0  27.71   0   0\n",
       "38  39  158.0    -9  -5.0  1025.0  31.73   0   0\n",
       "39  40  154.0    -9  -5.0  1025.0  35.75   0   0\n",
       "40  41  159.0    -9  -5.0  1026.0  37.54   0   0\n",
       "41  42  164.0    -8  -5.0  1027.0  39.33   0   0\n",
       "42  43  170.0    -8  -5.0  1027.0  42.46   0   0\n",
       "43  44  149.0    -8  -5.0  1028.0  44.25   0   0"
      ]
     },
     "execution_count": 146,
     "metadata": {},
     "output_type": "execute_result"
    }
   ],
   "source": [
    "beijing_pm_new_1 = beijing_pm_new.dropna()\n",
    "beijing_pm_new_1.count()\n",
    "beijing_pm_new_1.head()\n",
    "beijing_pm_new_1.columns = ['No','pm25','DEWP','TEMP','PRES','cws','cs','cr']\n",
    "beijing_pm_new_1.head(20)"
   ]
  },
  {
   "cell_type": "code",
   "execution_count": 147,
   "metadata": {},
   "outputs": [
    {
     "data": {
      "text/html": [
       "<div>\n",
       "<style>\n",
       "    .dataframe thead tr:only-child th {\n",
       "        text-align: right;\n",
       "    }\n",
       "\n",
       "    .dataframe thead th {\n",
       "        text-align: left;\n",
       "    }\n",
       "\n",
       "    .dataframe tbody tr th {\n",
       "        vertical-align: top;\n",
       "    }\n",
       "</style>\n",
       "<table border=\"1\" class=\"dataframe\">\n",
       "  <thead>\n",
       "    <tr style=\"text-align: right;\">\n",
       "      <th></th>\n",
       "      <th>No</th>\n",
       "      <th>pm25</th>\n",
       "      <th>DEWP</th>\n",
       "      <th>TEMP</th>\n",
       "      <th>PRES</th>\n",
       "      <th>cws</th>\n",
       "      <th>cs</th>\n",
       "      <th>cr</th>\n",
       "    </tr>\n",
       "  </thead>\n",
       "  <tbody>\n",
       "    <tr>\n",
       "      <th>No</th>\n",
       "      <td>1.000000</td>\n",
       "      <td>-0.017706</td>\n",
       "      <td>0.053953</td>\n",
       "      <td>0.088675</td>\n",
       "      <td>-0.025997</td>\n",
       "      <td>-0.064034</td>\n",
       "      <td>-0.032231</td>\n",
       "      <td>-0.018065</td>\n",
       "    </tr>\n",
       "    <tr>\n",
       "      <th>pm25</th>\n",
       "      <td>-0.017706</td>\n",
       "      <td>1.000000</td>\n",
       "      <td>0.171423</td>\n",
       "      <td>-0.090534</td>\n",
       "      <td>-0.047282</td>\n",
       "      <td>-0.247784</td>\n",
       "      <td>0.019266</td>\n",
       "      <td>-0.051369</td>\n",
       "    </tr>\n",
       "    <tr>\n",
       "      <th>DEWP</th>\n",
       "      <td>0.053953</td>\n",
       "      <td>0.171423</td>\n",
       "      <td>1.000000</td>\n",
       "      <td>0.823821</td>\n",
       "      <td>-0.777722</td>\n",
       "      <td>-0.293106</td>\n",
       "      <td>-0.034925</td>\n",
       "      <td>0.125341</td>\n",
       "    </tr>\n",
       "    <tr>\n",
       "      <th>TEMP</th>\n",
       "      <td>0.088675</td>\n",
       "      <td>-0.090534</td>\n",
       "      <td>0.823821</td>\n",
       "      <td>1.000000</td>\n",
       "      <td>-0.826903</td>\n",
       "      <td>-0.149613</td>\n",
       "      <td>-0.094785</td>\n",
       "      <td>0.049544</td>\n",
       "    </tr>\n",
       "    <tr>\n",
       "      <th>PRES</th>\n",
       "      <td>-0.025997</td>\n",
       "      <td>-0.047282</td>\n",
       "      <td>-0.777722</td>\n",
       "      <td>-0.826903</td>\n",
       "      <td>1.000000</td>\n",
       "      <td>0.178871</td>\n",
       "      <td>0.070537</td>\n",
       "      <td>-0.080532</td>\n",
       "    </tr>\n",
       "    <tr>\n",
       "      <th>cws</th>\n",
       "      <td>-0.064034</td>\n",
       "      <td>-0.247784</td>\n",
       "      <td>-0.293106</td>\n",
       "      <td>-0.149613</td>\n",
       "      <td>0.178871</td>\n",
       "      <td>1.000000</td>\n",
       "      <td>0.022630</td>\n",
       "      <td>-0.009157</td>\n",
       "    </tr>\n",
       "    <tr>\n",
       "      <th>cs</th>\n",
       "      <td>-0.032231</td>\n",
       "      <td>0.019266</td>\n",
       "      <td>-0.034925</td>\n",
       "      <td>-0.094785</td>\n",
       "      <td>0.070537</td>\n",
       "      <td>0.022630</td>\n",
       "      <td>1.000000</td>\n",
       "      <td>-0.009764</td>\n",
       "    </tr>\n",
       "    <tr>\n",
       "      <th>cr</th>\n",
       "      <td>-0.018065</td>\n",
       "      <td>-0.051369</td>\n",
       "      <td>0.125341</td>\n",
       "      <td>0.049544</td>\n",
       "      <td>-0.080532</td>\n",
       "      <td>-0.009157</td>\n",
       "      <td>-0.009764</td>\n",
       "      <td>1.000000</td>\n",
       "    </tr>\n",
       "  </tbody>\n",
       "</table>\n",
       "</div>"
      ],
      "text/plain": [
       "            No      pm25      DEWP      TEMP      PRES       cws        cs  \\\n",
       "No    1.000000 -0.017706  0.053953  0.088675 -0.025997 -0.064034 -0.032231   \n",
       "pm25 -0.017706  1.000000  0.171423 -0.090534 -0.047282 -0.247784  0.019266   \n",
       "DEWP  0.053953  0.171423  1.000000  0.823821 -0.777722 -0.293106 -0.034925   \n",
       "TEMP  0.088675 -0.090534  0.823821  1.000000 -0.826903 -0.149613 -0.094785   \n",
       "PRES -0.025997 -0.047282 -0.777722 -0.826903  1.000000  0.178871  0.070537   \n",
       "cws  -0.064034 -0.247784 -0.293106 -0.149613  0.178871  1.000000  0.022630   \n",
       "cs   -0.032231  0.019266 -0.034925 -0.094785  0.070537  0.022630  1.000000   \n",
       "cr   -0.018065 -0.051369  0.125341  0.049544 -0.080532 -0.009157 -0.009764   \n",
       "\n",
       "            cr  \n",
       "No   -0.018065  \n",
       "pm25 -0.051369  \n",
       "DEWP  0.125341  \n",
       "TEMP  0.049544  \n",
       "PRES -0.080532  \n",
       "cws  -0.009157  \n",
       "cs   -0.009764  \n",
       "cr    1.000000  "
      ]
     },
     "execution_count": 147,
     "metadata": {},
     "output_type": "execute_result"
    }
   ],
   "source": [
    "beijing_pm_new_1.corr()"
   ]
  },
  {
   "cell_type": "markdown",
   "metadata": {},
   "source": [
    "**1.2)** Take an initial look at the correlations among the variables to get a better intuition for the data. Plot the correlations in a heatmap table using the Seaborn library with the 'seismic' colormap (this provides for clearer visualization, and lets important values \"jump out\" at you more immediately - it is also comes across as less-scary when showing to non-data scientists). Try to adjust the figure-size so that it is not too compressed. Please include a brief summary of your observations.  **(5 points)**"
   ]
  },
  {
   "cell_type": "code",
   "execution_count": 148,
   "metadata": {},
   "outputs": [
    {
     "data": {
      "text/plain": [
       "<matplotlib.axes._subplots.AxesSubplot at 0x1c0fa52438>"
      ]
     },
     "execution_count": 148,
     "metadata": {},
     "output_type": "execute_result"
    },
    {
     "data": {
      "image/png": "[encoded data removed]",
      "text/plain": [
       "<matplotlib.figure.Figure at 0x1c1b58bd30>"
      ]
     },
     "metadata": {},
     "output_type": "display_data"
    }
   ],
   "source": [
    "sns.heatmap(beijing_pm_new_1,vmin=0, vmax=200,cmap='seismic',yticklabels=False)"
   ]
  },
  {
   "cell_type": "code",
   "execution_count": 149,
   "metadata": {},
   "outputs": [
    {
     "data": {
      "text/plain": [
       "<matplotlib.axes._subplots.AxesSubplot at 0x1c0faaf6d8>"
      ]
     },
     "execution_count": 149,
     "metadata": {},
     "output_type": "execute_result"
    },
    {
     "data": {
      "image/png": "[encoded data removed]",
      "text/plain": [
       "<matplotlib.figure.Figure at 0x1c1add57b8>"
      ]
     },
     "metadata": {},
     "output_type": "display_data"
    }
   ],
   "source": [
    "beijing_corr = beijing_pm_new_1.corr()\n",
    "sns.heatmap(beijing_corr,vmin=-1, vmax=1,cmap='seismic')"
   ]
  },
  {
   "cell_type": "markdown",
   "metadata": {},
   "source": [
    "**Summary:** According to the heatmap, it appears that the Cumulated wind speed has the strongest correlation to PM2.5"
   ]
  },
  {
   "cell_type": "markdown",
   "metadata": {},
   "source": [
    "**1.3)** Using the independant variable with the strongest correlation (note: 'strong' is defined by absolute value) to PM2.5 concentration, run a single variable regression. Print the results, and write a brief interpretation of the R-squared. **(10 points)**"
   ]
  },
  {
   "cell_type": "code",
   "execution_count": 150,
   "metadata": {},
   "outputs": [
    {
     "data": {
      "text/html": [
       "<table class=\"simpletable\">\n",
       "<caption>OLS Regression Results</caption>\n",
       "<tr>\n",
       "  <th>Dep. Variable:</th>          <td>pm25</td>       <th>  R-squared:         </th>  <td>   0.027</td>  \n",
       "</tr>\n",
       "<tr>\n",
       "  <th>Model:</th>                   <td>OLS</td>       <th>  Adj. R-squared:    </th>  <td>   0.027</td>  \n",
       "</tr>\n",
       "<tr>\n",
       "  <th>Method:</th>             <td>Least Squares</td>  <th>  F-statistic:       </th>  <td>   1162.</td>  \n",
       "</tr>\n",
       "<tr>\n",
       "  <th>Date:</th>             <td>Mon, 08 Oct 2018</td> <th>  Prob (F-statistic):</th>  <td>3.92e-251</td> \n",
       "</tr>\n",
       "<tr>\n",
       "  <th>Time:</th>                 <td>05:07:32</td>     <th>  Log-Likelihood:    </th> <td>-2.6348e+05</td>\n",
       "</tr>\n",
       "<tr>\n",
       "  <th>No. Observations:</th>      <td> 41757</td>      <th>  AIC:               </th>  <td>5.270e+05</td> \n",
       "</tr>\n",
       "<tr>\n",
       "  <th>Df Residuals:</th>          <td> 41756</td>      <th>  BIC:               </th>  <td>5.270e+05</td> \n",
       "</tr>\n",
       "<tr>\n",
       "  <th>Df Model:</th>              <td>     1</td>      <th>                     </th>      <td> </td>     \n",
       "</tr>\n",
       "<tr>\n",
       "  <th>Covariance Type:</th>      <td>nonrobust</td>    <th>                     </th>      <td> </td>     \n",
       "</tr>\n",
       "</table>\n",
       "<table class=\"simpletable\">\n",
       "<tr>\n",
       "   <td></td>      <th>coef</th>     <th>std err</th>      <th>t</th>      <th>P>|t|</th>  <th>[0.025</th>    <th>0.975]</th>  \n",
       "</tr>\n",
       "<tr>\n",
       "  <th>cws</th> <td>    0.4031</td> <td>    0.012</td> <td>   34.081</td> <td> 0.000</td> <td>    0.380</td> <td>    0.426</td>\n",
       "</tr>\n",
       "</table>\n",
       "<table class=\"simpletable\">\n",
       "<tr>\n",
       "  <th>Omnibus:</th>       <td>11599.616</td> <th>  Durbin-Watson:     </th> <td>   0.037</td> \n",
       "</tr>\n",
       "<tr>\n",
       "  <th>Prob(Omnibus):</th>  <td> 0.000</td>   <th>  Jarque-Bera (JB):  </th> <td>37947.530</td>\n",
       "</tr>\n",
       "<tr>\n",
       "  <th>Skew:</th>           <td> 1.409</td>   <th>  Prob(JB):          </th> <td>    0.00</td> \n",
       "</tr>\n",
       "<tr>\n",
       "  <th>Kurtosis:</th>       <td> 6.725</td>   <th>  Cond. No.          </th> <td>    1.00</td> \n",
       "</tr>\n",
       "</table>"
      ],
      "text/plain": [
       "<class 'statsmodels.iolib.summary.Summary'>\n",
       "\"\"\"\n",
       "                            OLS Regression Results                            \n",
       "==============================================================================\n",
       "Dep. Variable:                   pm25   R-squared:                       0.027\n",
       "Model:                            OLS   Adj. R-squared:                  0.027\n",
       "Method:                 Least Squares   F-statistic:                     1162.\n",
       "Date:                Mon, 08 Oct 2018   Prob (F-statistic):          3.92e-251\n",
       "Time:                        05:07:32   Log-Likelihood:            -2.6348e+05\n",
       "No. Observations:               41757   AIC:                         5.270e+05\n",
       "Df Residuals:                   41756   BIC:                         5.270e+05\n",
       "Df Model:                           1                                         \n",
       "Covariance Type:            nonrobust                                         \n",
       "==============================================================================\n",
       "                 coef    std err          t      P>|t|      [0.025      0.975]\n",
       "------------------------------------------------------------------------------\n",
       "cws            0.4031      0.012     34.081      0.000       0.380       0.426\n",
       "==============================================================================\n",
       "Omnibus:                    11599.616   Durbin-Watson:                   0.037\n",
       "Prob(Omnibus):                  0.000   Jarque-Bera (JB):            37947.530\n",
       "Skew:                           1.409   Prob(JB):                         0.00\n",
       "Kurtosis:                       6.725   Cond. No.                         1.00\n",
       "==============================================================================\n",
       "\n",
       "Warnings:\n",
       "[1] Standard Errors assume that the covariance matrix of the errors is correctly specified.\n",
       "\"\"\""
      ]
     },
     "execution_count": 150,
     "metadata": {},
     "output_type": "execute_result"
    }
   ],
   "source": [
    "x_1 = beijing_pm_new_1['cws']\n",
    "y = beijing_pm_new_1['pm25']\n",
    "x_2 = beijing_pm_new_1['DEWP']\n",
    "x_3 = beijing_pm_new_1['DEWP']\n",
    "x_4 = beijing_pm_new_1['TEMP']\n",
    "x_5 = beijing_pm_new_1['PRES']\n",
    "x_6 = beijing_pm_new_1['cs']\n",
    "x_7 = beijing_pm_new_1['cr']\n",
    "x = beijing_pm_new_1[['cws','DEWP','TEMP','PRES','cs','cr']]\n",
    "model = sma.OLS(beijing_pm_new_1['pm25'], beijing_pm_new_1['cws']).fit()\n",
    "prediction = model.predict(beijing_pm_new_1['cws'], )\n",
    "model.summary()"
   ]
  },
  {
   "cell_type": "markdown",
   "metadata": {},
   "source": [
    "**Summary:**The R-squared is 0.027, which is pretty small. It indicates that the correlation between PM2.5 and Cumulated wind speed is not very strong."
   ]
  },
  {
   "cell_type": "markdown",
   "metadata": {},
   "source": [
    "**1.4)** Now fit the regression with all of the independant variables. How does the R_squared change? What does this mean? How might colinearity impact our model? **(12 points)**"
   ]
  },
  {
   "cell_type": "code",
   "execution_count": 151,
   "metadata": {},
   "outputs": [
    {
     "data": {
      "text/html": [
       "<table class=\"simpletable\">\n",
       "<caption>OLS Regression Results</caption>\n",
       "<tr>\n",
       "  <th>Dep. Variable:</th>          <td>pm25</td>       <th>  R-squared:         </th>  <td>   0.236</td>  \n",
       "</tr>\n",
       "<tr>\n",
       "  <th>Model:</th>                   <td>OLS</td>       <th>  Adj. R-squared:    </th>  <td>   0.236</td>  \n",
       "</tr>\n",
       "<tr>\n",
       "  <th>Method:</th>             <td>Least Squares</td>  <th>  F-statistic:       </th>  <td>   2151.</td>  \n",
       "</tr>\n",
       "<tr>\n",
       "  <th>Date:</th>             <td>Mon, 08 Oct 2018</td> <th>  Prob (F-statistic):</th>   <td>  0.00</td>   \n",
       "</tr>\n",
       "<tr>\n",
       "  <th>Time:</th>                 <td>05:07:32</td>     <th>  Log-Likelihood:    </th> <td>-2.4247e+05</td>\n",
       "</tr>\n",
       "<tr>\n",
       "  <th>No. Observations:</th>      <td> 41757</td>      <th>  AIC:               </th>  <td>4.849e+05</td> \n",
       "</tr>\n",
       "<tr>\n",
       "  <th>Df Residuals:</th>          <td> 41750</td>      <th>  BIC:               </th>  <td>4.850e+05</td> \n",
       "</tr>\n",
       "<tr>\n",
       "  <th>Df Model:</th>              <td>     6</td>      <th>                     </th>      <td> </td>     \n",
       "</tr>\n",
       "<tr>\n",
       "  <th>Covariance Type:</th>      <td>nonrobust</td>    <th>                     </th>      <td> </td>     \n",
       "</tr>\n",
       "</table>\n",
       "<table class=\"simpletable\">\n",
       "<tr>\n",
       "    <td></td>       <th>coef</th>     <th>std err</th>      <th>t</th>      <th>P>|t|</th>  <th>[0.025</th>    <th>0.975]</th>  \n",
       "</tr>\n",
       "<tr>\n",
       "  <th>const</th> <td> 1728.4313</td> <td>   72.990</td> <td>   23.680</td> <td> 0.000</td> <td> 1585.369</td> <td> 1871.493</td>\n",
       "</tr>\n",
       "<tr>\n",
       "  <th>cws</th>   <td>   -0.2616</td> <td>    0.008</td> <td>  -31.015</td> <td> 0.000</td> <td>   -0.278</td> <td>   -0.245</td>\n",
       "</tr>\n",
       "<tr>\n",
       "  <th>DEWP</th>  <td>    4.2822</td> <td>    0.053</td> <td>   80.109</td> <td> 0.000</td> <td>    4.177</td> <td>    4.387</td>\n",
       "</tr>\n",
       "<tr>\n",
       "  <th>TEMP</th>  <td>   -6.0681</td> <td>    0.068</td> <td>  -88.764</td> <td> 0.000</td> <td>   -6.202</td> <td>   -5.934</td>\n",
       "</tr>\n",
       "<tr>\n",
       "  <th>PRES</th>  <td>   -1.5291</td> <td>    0.071</td> <td>  -21.431</td> <td> 0.000</td> <td>   -1.669</td> <td>   -1.389</td>\n",
       "</tr>\n",
       "<tr>\n",
       "  <th>cs</th>    <td>   -2.2669</td> <td>    0.510</td> <td>   -4.448</td> <td> 0.000</td> <td>   -3.266</td> <td>   -1.268</td>\n",
       "</tr>\n",
       "<tr>\n",
       "  <th>cr</th>    <td>   -7.2063</td> <td>    0.282</td> <td>  -25.593</td> <td> 0.000</td> <td>   -7.758</td> <td>   -6.654</td>\n",
       "</tr>\n",
       "</table>\n",
       "<table class=\"simpletable\">\n",
       "<tr>\n",
       "  <th>Omnibus:</th>       <td>14925.190</td> <th>  Durbin-Watson:     </th> <td>   0.109</td> \n",
       "</tr>\n",
       "<tr>\n",
       "  <th>Prob(Omnibus):</th>  <td> 0.000</td>   <th>  Jarque-Bera (JB):  </th> <td>72241.887</td>\n",
       "</tr>\n",
       "<tr>\n",
       "  <th>Skew:</th>           <td> 1.678</td>   <th>  Prob(JB):          </th> <td>    0.00</td> \n",
       "</tr>\n",
       "<tr>\n",
       "  <th>Kurtosis:</th>       <td> 8.501</td>   <th>  Cond. No.          </th> <td>1.89e+05</td> \n",
       "</tr>\n",
       "</table>"
      ],
      "text/plain": [
       "<class 'statsmodels.iolib.summary.Summary'>\n",
       "\"\"\"\n",
       "                            OLS Regression Results                            \n",
       "==============================================================================\n",
       "Dep. Variable:                   pm25   R-squared:                       0.236\n",
       "Model:                            OLS   Adj. R-squared:                  0.236\n",
       "Method:                 Least Squares   F-statistic:                     2151.\n",
       "Date:                Mon, 08 Oct 2018   Prob (F-statistic):               0.00\n",
       "Time:                        05:07:32   Log-Likelihood:            -2.4247e+05\n",
       "No. Observations:               41757   AIC:                         4.849e+05\n",
       "Df Residuals:                   41750   BIC:                         4.850e+05\n",
       "Df Model:                           6                                         \n",
       "Covariance Type:            nonrobust                                         \n",
       "==============================================================================\n",
       "                 coef    std err          t      P>|t|      [0.025      0.975]\n",
       "------------------------------------------------------------------------------\n",
       "const       1728.4313     72.990     23.680      0.000    1585.369    1871.493\n",
       "cws           -0.2616      0.008    -31.015      0.000      -0.278      -0.245\n",
       "DEWP           4.2822      0.053     80.109      0.000       4.177       4.387\n",
       "TEMP          -6.0681      0.068    -88.764      0.000      -6.202      -5.934\n",
       "PRES          -1.5291      0.071    -21.431      0.000      -1.669      -1.389\n",
       "cs            -2.2669      0.510     -4.448      0.000      -3.266      -1.268\n",
       "cr            -7.2063      0.282    -25.593      0.000      -7.758      -6.654\n",
       "==============================================================================\n",
       "Omnibus:                    14925.190   Durbin-Watson:                   0.109\n",
       "Prob(Omnibus):                  0.000   Jarque-Bera (JB):            72241.887\n",
       "Skew:                           1.678   Prob(JB):                         0.00\n",
       "Kurtosis:                       8.501   Cond. No.                     1.89e+05\n",
       "==============================================================================\n",
       "\n",
       "Warnings:\n",
       "[1] Standard Errors assume that the covariance matrix of the errors is correctly specified.\n",
       "[2] The condition number is large, 1.89e+05. This might indicate that there are\n",
       "strong multicollinearity or other numerical problems.\n",
       "\"\"\""
      ]
     },
     "execution_count": 151,
     "metadata": {},
     "output_type": "execute_result"
    }
   ],
   "source": [
    "X = sma.add_constant(x)\n",
    "\n",
    "result = sma.OLS(y,X).fit()\n",
    "result.summary()"
   ]
  },
  {
   "cell_type": "markdown",
   "metadata": {},
   "source": [
    "**Summary:**The R-squared value increased from 0.027 to 0.236. It means with all the independant variables together, there is a relatively strong correlation between the PM2.5 and all other variables. It might because of independant variables also have correlations with each other, and they can all influence PM2.5 together."
   ]
  },
  {
   "cell_type": "markdown",
   "metadata": {},
   "source": [
    "**1.5)** Run another regression on the data, this time removing the \"DEWP\" and \"PRES\" independant variables. What happens to the coefficients for the remaining variables? Why might this be the case? (Hint: look at your correlation table above) **(12 points)**"
   ]
  },
  {
   "cell_type": "code",
   "execution_count": 152,
   "metadata": {},
   "outputs": [
    {
     "data": {
      "text/html": [
       "<table class=\"simpletable\">\n",
       "<caption>OLS Regression Results</caption>\n",
       "<tr>\n",
       "  <th>Dep. Variable:</th>          <td>pm25</td>       <th>  R-squared:         </th>  <td>   0.080</td>  \n",
       "</tr>\n",
       "<tr>\n",
       "  <th>Model:</th>                   <td>OLS</td>       <th>  Adj. R-squared:    </th>  <td>   0.080</td>  \n",
       "</tr>\n",
       "<tr>\n",
       "  <th>Method:</th>             <td>Least Squares</td>  <th>  F-statistic:       </th>  <td>   913.4</td>  \n",
       "</tr>\n",
       "<tr>\n",
       "  <th>Date:</th>             <td>Mon, 08 Oct 2018</td> <th>  Prob (F-statistic):</th>   <td>  0.00</td>   \n",
       "</tr>\n",
       "<tr>\n",
       "  <th>Time:</th>                 <td>05:07:32</td>     <th>  Log-Likelihood:    </th> <td>-2.4634e+05</td>\n",
       "</tr>\n",
       "<tr>\n",
       "  <th>No. Observations:</th>      <td> 41757</td>      <th>  AIC:               </th>  <td>4.927e+05</td> \n",
       "</tr>\n",
       "<tr>\n",
       "  <th>Df Residuals:</th>          <td> 41752</td>      <th>  BIC:               </th>  <td>4.927e+05</td> \n",
       "</tr>\n",
       "<tr>\n",
       "  <th>Df Model:</th>              <td>     4</td>      <th>                     </th>      <td> </td>     \n",
       "</tr>\n",
       "<tr>\n",
       "  <th>Covariance Type:</th>      <td>nonrobust</td>    <th>                     </th>      <td> </td>     \n",
       "</tr>\n",
       "</table>\n",
       "<table class=\"simpletable\">\n",
       "<tr>\n",
       "    <td></td>       <th>coef</th>     <th>std err</th>      <th>t</th>      <th>P>|t|</th>  <th>[0.025</th>    <th>0.975]</th>  \n",
       "</tr>\n",
       "<tr>\n",
       "  <th>const</th> <td>  122.8806</td> <td>    0.681</td> <td>  180.543</td> <td> 0.000</td> <td>  121.547</td> <td>  124.215</td>\n",
       "</tr>\n",
       "<tr>\n",
       "  <th>cws</th>   <td>   -0.4963</td> <td>    0.009</td> <td>  -56.358</td> <td> 0.000</td> <td>   -0.514</td> <td>   -0.479</td>\n",
       "</tr>\n",
       "<tr>\n",
       "  <th>TEMP</th>  <td>   -0.9601</td> <td>    0.036</td> <td>  -26.610</td> <td> 0.000</td> <td>   -1.031</td> <td>   -0.889</td>\n",
       "</tr>\n",
       "<tr>\n",
       "  <th>cs</th>    <td>    1.5151</td> <td>    0.557</td> <td>    2.719</td> <td> 0.007</td> <td>    0.423</td> <td>    2.607</td>\n",
       "</tr>\n",
       "<tr>\n",
       "  <th>cr</th>    <td>   -3.0767</td> <td>    0.305</td> <td>  -10.088</td> <td> 0.000</td> <td>   -3.675</td> <td>   -2.479</td>\n",
       "</tr>\n",
       "</table>\n",
       "<table class=\"simpletable\">\n",
       "<tr>\n",
       "  <th>Omnibus:</th>       <td>14334.505</td> <th>  Durbin-Watson:     </th> <td>   0.084</td> \n",
       "</tr>\n",
       "<tr>\n",
       "  <th>Prob(Omnibus):</th>  <td> 0.000</td>   <th>  Jarque-Bera (JB):  </th> <td>55969.005</td>\n",
       "</tr>\n",
       "<tr>\n",
       "  <th>Skew:</th>           <td> 1.688</td>   <th>  Prob(JB):          </th> <td>    0.00</td> \n",
       "</tr>\n",
       "<tr>\n",
       "  <th>Kurtosis:</th>       <td> 7.557</td>   <th>  Cond. No.          </th> <td>    88.0</td> \n",
       "</tr>\n",
       "</table>"
      ],
      "text/plain": [
       "<class 'statsmodels.iolib.summary.Summary'>\n",
       "\"\"\"\n",
       "                            OLS Regression Results                            \n",
       "==============================================================================\n",
       "Dep. Variable:                   pm25   R-squared:                       0.080\n",
       "Model:                            OLS   Adj. R-squared:                  0.080\n",
       "Method:                 Least Squares   F-statistic:                     913.4\n",
       "Date:                Mon, 08 Oct 2018   Prob (F-statistic):               0.00\n",
       "Time:                        05:07:32   Log-Likelihood:            -2.4634e+05\n",
       "No. Observations:               41757   AIC:                         4.927e+05\n",
       "Df Residuals:                   41752   BIC:                         4.927e+05\n",
       "Df Model:                           4                                         \n",
       "Covariance Type:            nonrobust                                         \n",
       "==============================================================================\n",
       "                 coef    std err          t      P>|t|      [0.025      0.975]\n",
       "------------------------------------------------------------------------------\n",
       "const        122.8806      0.681    180.543      0.000     121.547     124.215\n",
       "cws           -0.4963      0.009    -56.358      0.000      -0.514      -0.479\n",
       "TEMP          -0.9601      0.036    -26.610      0.000      -1.031      -0.889\n",
       "cs             1.5151      0.557      2.719      0.007       0.423       2.607\n",
       "cr            -3.0767      0.305    -10.088      0.000      -3.675      -2.479\n",
       "==============================================================================\n",
       "Omnibus:                    14334.505   Durbin-Watson:                   0.084\n",
       "Prob(Omnibus):                  0.000   Jarque-Bera (JB):            55969.005\n",
       "Skew:                           1.688   Prob(JB):                         0.00\n",
       "Kurtosis:                       7.557   Cond. No.                         88.0\n",
       "==============================================================================\n",
       "\n",
       "Warnings:\n",
       "[1] Standard Errors assume that the covariance matrix of the errors is correctly specified.\n",
       "\"\"\""
      ]
     },
     "execution_count": 152,
     "metadata": {},
     "output_type": "execute_result"
    }
   ],
   "source": [
    "x_new = beijing_pm_new_1[['cws','TEMP','cs','cr']]\n",
    "X_new = sma.add_constant(x_new)\n",
    "result_new = sma.OLS(y,X_new).fit()\n",
    "result_new.summary()"
   ]
  },
  {
   "cell_type": "markdown",
   "metadata": {},
   "source": [
    "**Summary:**When I took Dew Point and Pressure out of the data, other coefficients increases. "
   ]
  },
  {
   "cell_type": "markdown",
   "metadata": {},
   "source": [
    "**1.6)** Calculate (either in python or by hand) the impact of a one standard deviation increase in *temperature* and a one standard deviation increase in *cumulative wind speed* for the models in **1.4** & **1.5**. **(6 points)**"
   ]
  },
  {
   "cell_type": "code",
   "execution_count": 153,
   "metadata": {},
   "outputs": [
    {
     "name": "stderr",
     "output_type": "stream",
     "text": [
      "/Applications/anaconda3/lib/python3.6/site-packages/ipykernel_launcher.py:1: SettingWithCopyWarning: \n",
      "A value is trying to be set on a copy of a slice from a DataFrame.\n",
      "Try using .loc[row_indexer,col_indexer] = value instead\n",
      "\n",
      "See the caveats in the documentation: http://pandas.pydata.org/pandas-docs/stable/indexing.html#indexing-view-versus-copy\n",
      "  \"\"\"Entry point for launching an IPython kernel.\n",
      "/Applications/anaconda3/lib/python3.6/site-packages/ipykernel_launcher.py:2: SettingWithCopyWarning: \n",
      "A value is trying to be set on a copy of a slice from a DataFrame.\n",
      "Try using .loc[row_indexer,col_indexer] = value instead\n",
      "\n",
      "See the caveats in the documentation: http://pandas.pydata.org/pandas-docs/stable/indexing.html#indexing-view-versus-copy\n",
      "  \n"
     ]
    },
    {
     "data": {
      "text/html": [
       "<table class=\"simpletable\">\n",
       "<caption>OLS Regression Results</caption>\n",
       "<tr>\n",
       "  <th>Dep. Variable:</th>          <td>pm25</td>       <th>  R-squared:         </th>  <td>   0.236</td>  \n",
       "</tr>\n",
       "<tr>\n",
       "  <th>Model:</th>                   <td>OLS</td>       <th>  Adj. R-squared:    </th>  <td>   0.236</td>  \n",
       "</tr>\n",
       "<tr>\n",
       "  <th>Method:</th>             <td>Least Squares</td>  <th>  F-statistic:       </th>  <td>   2151.</td>  \n",
       "</tr>\n",
       "<tr>\n",
       "  <th>Date:</th>             <td>Mon, 08 Oct 2018</td> <th>  Prob (F-statistic):</th>   <td>  0.00</td>   \n",
       "</tr>\n",
       "<tr>\n",
       "  <th>Time:</th>                 <td>05:07:33</td>     <th>  Log-Likelihood:    </th> <td>-2.4247e+05</td>\n",
       "</tr>\n",
       "<tr>\n",
       "  <th>No. Observations:</th>      <td> 41757</td>      <th>  AIC:               </th>  <td>4.849e+05</td> \n",
       "</tr>\n",
       "<tr>\n",
       "  <th>Df Residuals:</th>          <td> 41750</td>      <th>  BIC:               </th>  <td>4.850e+05</td> \n",
       "</tr>\n",
       "<tr>\n",
       "  <th>Df Model:</th>              <td>     6</td>      <th>                     </th>      <td> </td>     \n",
       "</tr>\n",
       "<tr>\n",
       "  <th>Covariance Type:</th>      <td>nonrobust</td>    <th>                     </th>      <td> </td>     \n",
       "</tr>\n",
       "</table>\n",
       "<table class=\"simpletable\">\n",
       "<tr>\n",
       "    <td></td>       <th>coef</th>     <th>std err</th>      <th>t</th>      <th>P>|t|</th>  <th>[0.025</th>    <th>0.975]</th>  \n",
       "</tr>\n",
       "<tr>\n",
       "  <th>const</th> <td> 1646.9329</td> <td>   72.553</td> <td>   22.700</td> <td> 0.000</td> <td> 1504.728</td> <td> 1789.138</td>\n",
       "</tr>\n",
       "<tr>\n",
       "  <th>cws</th>   <td>  -12.9820</td> <td>    0.419</td> <td>  -31.015</td> <td> 0.000</td> <td>  -13.802</td> <td>  -12.162</td>\n",
       "</tr>\n",
       "<tr>\n",
       "  <th>DEWP</th>  <td>    4.2822</td> <td>    0.053</td> <td>   80.109</td> <td> 0.000</td> <td>    4.177</td> <td>    4.387</td>\n",
       "</tr>\n",
       "<tr>\n",
       "  <th>TEMP</th>  <td>  -73.8804</td> <td>    0.832</td> <td>  -88.764</td> <td> 0.000</td> <td>  -75.512</td> <td>  -72.249</td>\n",
       "</tr>\n",
       "<tr>\n",
       "  <th>PRES</th>  <td>   -1.5291</td> <td>    0.071</td> <td>  -21.431</td> <td> 0.000</td> <td>   -1.669</td> <td>   -1.389</td>\n",
       "</tr>\n",
       "<tr>\n",
       "  <th>cs</th>    <td>   -2.2669</td> <td>    0.510</td> <td>   -4.448</td> <td> 0.000</td> <td>   -3.266</td> <td>   -1.268</td>\n",
       "</tr>\n",
       "<tr>\n",
       "  <th>cr</th>    <td>   -7.2063</td> <td>    0.282</td> <td>  -25.593</td> <td> 0.000</td> <td>   -7.758</td> <td>   -6.654</td>\n",
       "</tr>\n",
       "</table>\n",
       "<table class=\"simpletable\">\n",
       "<tr>\n",
       "  <th>Omnibus:</th>       <td>14925.190</td> <th>  Durbin-Watson:     </th> <td>   0.109</td> \n",
       "</tr>\n",
       "<tr>\n",
       "  <th>Prob(Omnibus):</th>  <td> 0.000</td>   <th>  Jarque-Bera (JB):  </th> <td>72241.887</td>\n",
       "</tr>\n",
       "<tr>\n",
       "  <th>Skew:</th>           <td> 1.678</td>   <th>  Prob(JB):          </th> <td>    0.00</td> \n",
       "</tr>\n",
       "<tr>\n",
       "  <th>Kurtosis:</th>       <td> 8.501</td>   <th>  Cond. No.          </th> <td>1.87e+05</td> \n",
       "</tr>\n",
       "</table>"
      ],
      "text/plain": [
       "<class 'statsmodels.iolib.summary.Summary'>\n",
       "\"\"\"\n",
       "                            OLS Regression Results                            \n",
       "==============================================================================\n",
       "Dep. Variable:                   pm25   R-squared:                       0.236\n",
       "Model:                            OLS   Adj. R-squared:                  0.236\n",
       "Method:                 Least Squares   F-statistic:                     2151.\n",
       "Date:                Mon, 08 Oct 2018   Prob (F-statistic):               0.00\n",
       "Time:                        05:07:33   Log-Likelihood:            -2.4247e+05\n",
       "No. Observations:               41757   AIC:                         4.849e+05\n",
       "Df Residuals:                   41750   BIC:                         4.850e+05\n",
       "Df Model:                           6                                         \n",
       "Covariance Type:            nonrobust                                         \n",
       "==============================================================================\n",
       "                 coef    std err          t      P>|t|      [0.025      0.975]\n",
       "------------------------------------------------------------------------------\n",
       "const       1646.9329     72.553     22.700      0.000    1504.728    1789.138\n",
       "cws          -12.9820      0.419    -31.015      0.000     -13.802     -12.162\n",
       "DEWP           4.2822      0.053     80.109      0.000       4.177       4.387\n",
       "TEMP         -73.8804      0.832    -88.764      0.000     -75.512     -72.249\n",
       "PRES          -1.5291      0.071    -21.431      0.000      -1.669      -1.389\n",
       "cs            -2.2669      0.510     -4.448      0.000      -3.266      -1.268\n",
       "cr            -7.2063      0.282    -25.593      0.000      -7.758      -6.654\n",
       "==============================================================================\n",
       "Omnibus:                    14925.190   Durbin-Watson:                   0.109\n",
       "Prob(Omnibus):                  0.000   Jarque-Bera (JB):            72241.887\n",
       "Skew:                           1.678   Prob(JB):                         0.00\n",
       "Kurtosis:                       8.501   Cond. No.                     1.87e+05\n",
       "==============================================================================\n",
       "\n",
       "Warnings:\n",
       "[1] Standard Errors assume that the covariance matrix of the errors is correctly specified.\n",
       "[2] The condition number is large, 1.87e+05. This might indicate that there are\n",
       "strong multicollinearity or other numerical problems.\n",
       "\"\"\""
      ]
     },
     "execution_count": 153,
     "metadata": {},
     "output_type": "execute_result"
    }
   ],
   "source": [
    "x['cws'] = (x['cws'] - x['cws'].mean()) / x['cws'].std()\n",
    "x['TEMP'] = (x['TEMP'] - x['TEMP'].mean()) / x['TEMP'].std()\n",
    "X = sma.add_constant(x)\n",
    "\n",
    "result = sma.OLS(y,X).fit()\n",
    "result.summary()\n"
   ]
  },
  {
   "cell_type": "code",
   "execution_count": 154,
   "metadata": {},
   "outputs": [
    {
     "name": "stderr",
     "output_type": "stream",
     "text": [
      "/Applications/anaconda3/lib/python3.6/site-packages/ipykernel_launcher.py:1: SettingWithCopyWarning: \n",
      "A value is trying to be set on a copy of a slice from a DataFrame.\n",
      "Try using .loc[row_indexer,col_indexer] = value instead\n",
      "\n",
      "See the caveats in the documentation: http://pandas.pydata.org/pandas-docs/stable/indexing.html#indexing-view-versus-copy\n",
      "  \"\"\"Entry point for launching an IPython kernel.\n",
      "/Applications/anaconda3/lib/python3.6/site-packages/ipykernel_launcher.py:2: SettingWithCopyWarning: \n",
      "A value is trying to be set on a copy of a slice from a DataFrame.\n",
      "Try using .loc[row_indexer,col_indexer] = value instead\n",
      "\n",
      "See the caveats in the documentation: http://pandas.pydata.org/pandas-docs/stable/indexing.html#indexing-view-versus-copy\n",
      "  \n"
     ]
    },
    {
     "data": {
      "text/html": [
       "<table class=\"simpletable\">\n",
       "<caption>OLS Regression Results</caption>\n",
       "<tr>\n",
       "  <th>Dep. Variable:</th>          <td>pm25</td>       <th>  R-squared:         </th>  <td>   0.080</td>  \n",
       "</tr>\n",
       "<tr>\n",
       "  <th>Model:</th>                   <td>OLS</td>       <th>  Adj. R-squared:    </th>  <td>   0.080</td>  \n",
       "</tr>\n",
       "<tr>\n",
       "  <th>Method:</th>             <td>Least Squares</td>  <th>  F-statistic:       </th>  <td>   913.4</td>  \n",
       "</tr>\n",
       "<tr>\n",
       "  <th>Date:</th>             <td>Mon, 08 Oct 2018</td> <th>  Prob (F-statistic):</th>   <td>  0.00</td>   \n",
       "</tr>\n",
       "<tr>\n",
       "  <th>Time:</th>                 <td>05:07:33</td>     <th>  Log-Likelihood:    </th> <td>-2.4634e+05</td>\n",
       "</tr>\n",
       "<tr>\n",
       "  <th>No. Observations:</th>      <td> 41757</td>      <th>  AIC:               </th>  <td>4.927e+05</td> \n",
       "</tr>\n",
       "<tr>\n",
       "  <th>Df Residuals:</th>          <td> 41752</td>      <th>  BIC:               </th>  <td>4.927e+05</td> \n",
       "</tr>\n",
       "<tr>\n",
       "  <th>Df Model:</th>              <td>     4</td>      <th>                     </th>      <td> </td>     \n",
       "</tr>\n",
       "<tr>\n",
       "  <th>Covariance Type:</th>      <td>nonrobust</td>    <th>                     </th>      <td> </td>     \n",
       "</tr>\n",
       "</table>\n",
       "<table class=\"simpletable\">\n",
       "<tr>\n",
       "    <td></td>       <th>coef</th>     <th>std err</th>      <th>t</th>      <th>P>|t|</th>  <th>[0.025</th>    <th>0.975]</th>  \n",
       "</tr>\n",
       "<tr>\n",
       "  <th>const</th> <td>  111.0360</td> <td>    0.626</td> <td>  177.501</td> <td> 0.000</td> <td>  109.810</td> <td>  112.262</td>\n",
       "</tr>\n",
       "<tr>\n",
       "  <th>cws</th>   <td>  -24.6242</td> <td>    0.437</td> <td>  -56.358</td> <td> 0.000</td> <td>  -25.481</td> <td>  -23.768</td>\n",
       "</tr>\n",
       "<tr>\n",
       "  <th>TEMP</th>  <td>   -0.9601</td> <td>    0.036</td> <td>  -26.610</td> <td> 0.000</td> <td>   -1.031</td> <td>   -0.889</td>\n",
       "</tr>\n",
       "<tr>\n",
       "  <th>cs</th>    <td>    1.5151</td> <td>    0.557</td> <td>    2.719</td> <td> 0.007</td> <td>    0.423</td> <td>    2.607</td>\n",
       "</tr>\n",
       "<tr>\n",
       "  <th>cr</th>    <td>   -3.0767</td> <td>    0.305</td> <td>  -10.088</td> <td> 0.000</td> <td>   -3.675</td> <td>   -2.479</td>\n",
       "</tr>\n",
       "</table>\n",
       "<table class=\"simpletable\">\n",
       "<tr>\n",
       "  <th>Omnibus:</th>       <td>14334.505</td> <th>  Durbin-Watson:     </th> <td>   0.084</td> \n",
       "</tr>\n",
       "<tr>\n",
       "  <th>Prob(Omnibus):</th>  <td> 0.000</td>   <th>  Jarque-Bera (JB):  </th> <td>55969.005</td>\n",
       "</tr>\n",
       "<tr>\n",
       "  <th>Skew:</th>           <td> 1.688</td>   <th>  Prob(JB):          </th> <td>    0.00</td> \n",
       "</tr>\n",
       "<tr>\n",
       "  <th>Kurtosis:</th>       <td> 7.557</td>   <th>  Cond. No.          </th> <td>    25.8</td> \n",
       "</tr>\n",
       "</table>"
      ],
      "text/plain": [
       "<class 'statsmodels.iolib.summary.Summary'>\n",
       "\"\"\"\n",
       "                            OLS Regression Results                            \n",
       "==============================================================================\n",
       "Dep. Variable:                   pm25   R-squared:                       0.080\n",
       "Model:                            OLS   Adj. R-squared:                  0.080\n",
       "Method:                 Least Squares   F-statistic:                     913.4\n",
       "Date:                Mon, 08 Oct 2018   Prob (F-statistic):               0.00\n",
       "Time:                        05:07:33   Log-Likelihood:            -2.4634e+05\n",
       "No. Observations:               41757   AIC:                         4.927e+05\n",
       "Df Residuals:                   41752   BIC:                         4.927e+05\n",
       "Df Model:                           4                                         \n",
       "Covariance Type:            nonrobust                                         \n",
       "==============================================================================\n",
       "                 coef    std err          t      P>|t|      [0.025      0.975]\n",
       "------------------------------------------------------------------------------\n",
       "const        111.0360      0.626    177.501      0.000     109.810     112.262\n",
       "cws          -24.6242      0.437    -56.358      0.000     -25.481     -23.768\n",
       "TEMP          -0.9601      0.036    -26.610      0.000      -1.031      -0.889\n",
       "cs             1.5151      0.557      2.719      0.007       0.423       2.607\n",
       "cr            -3.0767      0.305    -10.088      0.000      -3.675      -2.479\n",
       "==============================================================================\n",
       "Omnibus:                    14334.505   Durbin-Watson:                   0.084\n",
       "Prob(Omnibus):                  0.000   Jarque-Bera (JB):            55969.005\n",
       "Skew:                           1.688   Prob(JB):                         0.00\n",
       "Kurtosis:                       7.557   Cond. No.                         25.8\n",
       "==============================================================================\n",
       "\n",
       "Warnings:\n",
       "[1] Standard Errors assume that the covariance matrix of the errors is correctly specified.\n",
       "\"\"\""
      ]
     },
     "execution_count": 154,
     "metadata": {},
     "output_type": "execute_result"
    }
   ],
   "source": [
    "x_new['cws'] = (x_new['cws'] - x_new['cws'].mean()) / x_new['cws'].std()\n",
    "x_new['cws'] = (x_new['cws'] - x_new['cws'].mean()) / x_new['cws'].std()\n",
    "X_new = sma.add_constant(x_new)\n",
    "result_new = sma.OLS(y,X_new).fit()\n",
    "result_new.summary()"
   ]
  },
  {
   "cell_type": "markdown",
   "metadata": {},
   "source": [
    "Answers:For model in 1.4: A one standard deviation increase in cumulated wind speed decreases pm2.5 by 12.982. A one standard deviation increase in temprature decreases pm2.5 by 73.8804.\n",
    "\n",
    "For model in 1.5: A one standard deviation increase in cumulated wind speed decreases pm2.5 by 24.6242. A one standard deviation increase in temprature decreases pm2.5 by 0.9601."
   ]
  },
  {
   "cell_type": "markdown",
   "metadata": {},
   "source": [
    "### Problem 2 - Polynomial Regression (30 points)"
   ]
  },
  {
   "cell_type": "code",
   "execution_count": 155,
   "metadata": {},
   "outputs": [
    {
     "data": {
      "text/html": [
       "<div>\n",
       "<style>\n",
       "    .dataframe thead tr:only-child th {\n",
       "        text-align: right;\n",
       "    }\n",
       "\n",
       "    .dataframe thead th {\n",
       "        text-align: left;\n",
       "    }\n",
       "\n",
       "    .dataframe tbody tr th {\n",
       "        vertical-align: top;\n",
       "    }\n",
       "</style>\n",
       "<table border=\"1\" class=\"dataframe\">\n",
       "  <thead>\n",
       "    <tr style=\"text-align: right;\">\n",
       "      <th></th>\n",
       "      <th>y</th>\n",
       "      <th>x1</th>\n",
       "    </tr>\n",
       "  </thead>\n",
       "  <tbody>\n",
       "    <tr>\n",
       "      <th>0</th>\n",
       "      <td>2.613388</td>\n",
       "      <td>-0.50</td>\n",
       "    </tr>\n",
       "    <tr>\n",
       "      <th>1</th>\n",
       "      <td>2.170351</td>\n",
       "      <td>-0.32</td>\n",
       "    </tr>\n",
       "    <tr>\n",
       "      <th>2</th>\n",
       "      <td>0.049546</td>\n",
       "      <td>-0.14</td>\n",
       "    </tr>\n",
       "    <tr>\n",
       "      <th>3</th>\n",
       "      <td>1.158258</td>\n",
       "      <td>0.04</td>\n",
       "    </tr>\n",
       "    <tr>\n",
       "      <th>4</th>\n",
       "      <td>1.397567</td>\n",
       "      <td>0.22</td>\n",
       "    </tr>\n",
       "  </tbody>\n",
       "</table>\n",
       "</div>"
      ],
      "text/plain": [
       "          y    x1\n",
       "0  2.613388 -0.50\n",
       "1  2.170351 -0.32\n",
       "2  0.049546 -0.14\n",
       "3  1.158258  0.04\n",
       "4  1.397567  0.22"
      ]
     },
     "execution_count": 155,
     "metadata": {},
     "output_type": "execute_result"
    }
   ],
   "source": [
    "# let's create some artificial data\n",
    "y  = [2.61338821976, 2.17035124741, 0.0495462311938, 1.15825768821, 1.39756687454, 1.77323953196]\n",
    "x1 = [-0.5, -0.32, -0.14, 0.04, 0.22, 0.4]\n",
    "df = pd.DataFrame(data=[y, x1], index=(['y', 'x1'])).T\n",
    "df.head()"
   ]
  },
  {
   "cell_type": "markdown",
   "metadata": {},
   "source": [
    "**2.1)** Draw a scatter plot of the data (no lines required). Does there seem to be an apparent line of best fit? **(5 points)**"
   ]
  },
  {
   "cell_type": "code",
   "execution_count": 156,
   "metadata": {},
   "outputs": [
    {
     "data": {
      "text/plain": [
       "<matplotlib.collections.PathCollection at 0x1c1c357048>"
      ]
     },
     "execution_count": 156,
     "metadata": {},
     "output_type": "execute_result"
    },
    {
     "data": {
      "image/png": "[encoded data removed]",
      "text/plain": [
       "<matplotlib.figure.Figure at 0x1c1657da58>"
      ]
     },
     "metadata": {},
     "output_type": "display_data"
    }
   ],
   "source": [
    "plt.scatter(x1, y)"
   ]
  },
  {
   "cell_type": "markdown",
   "metadata": {},
   "source": [
    "**Summary:**It does not seem like there is an apparent line of best fit."
   ]
  },
  {
   "cell_type": "markdown",
   "metadata": {},
   "source": [
    "**2.2)** Our dependant variable *y*, in this case, does not appear to be a linear function of *x*. Create new columns in the dataframe for $x^2$, $x^3$, and $x^4$. **(5 points)**"
   ]
  },
  {
   "cell_type": "code",
   "execution_count": 157,
   "metadata": {
    "collapsed": true
   },
   "outputs": [],
   "source": [
    "def square(list):\n",
    "    return [i ** 2 for i in list]\n",
    "def triple(list):\n",
    "    return [i ** 3 for i in list]"
   ]
  },
  {
   "cell_type": "code",
   "execution_count": 158,
   "metadata": {},
   "outputs": [
    {
     "data": {
      "text/html": [
       "<div>\n",
       "<style>\n",
       "    .dataframe thead tr:only-child th {\n",
       "        text-align: right;\n",
       "    }\n",
       "\n",
       "    .dataframe thead th {\n",
       "        text-align: left;\n",
       "    }\n",
       "\n",
       "    .dataframe tbody tr th {\n",
       "        vertical-align: top;\n",
       "    }\n",
       "</style>\n",
       "<table border=\"1\" class=\"dataframe\">\n",
       "  <thead>\n",
       "    <tr style=\"text-align: right;\">\n",
       "      <th></th>\n",
       "      <th>y</th>\n",
       "      <th>x1</th>\n",
       "      <th>x2</th>\n",
       "      <th>x3</th>\n",
       "      <th>x4</th>\n",
       "    </tr>\n",
       "  </thead>\n",
       "  <tbody>\n",
       "    <tr>\n",
       "      <th>0</th>\n",
       "      <td>2.613388</td>\n",
       "      <td>-0.50</td>\n",
       "      <td>0.2500</td>\n",
       "      <td>-0.125000</td>\n",
       "      <td>0.062500</td>\n",
       "    </tr>\n",
       "    <tr>\n",
       "      <th>1</th>\n",
       "      <td>2.170351</td>\n",
       "      <td>-0.32</td>\n",
       "      <td>0.1024</td>\n",
       "      <td>-0.032768</td>\n",
       "      <td>0.010486</td>\n",
       "    </tr>\n",
       "    <tr>\n",
       "      <th>2</th>\n",
       "      <td>0.049546</td>\n",
       "      <td>-0.14</td>\n",
       "      <td>0.0196</td>\n",
       "      <td>-0.002744</td>\n",
       "      <td>0.000384</td>\n",
       "    </tr>\n",
       "    <tr>\n",
       "      <th>3</th>\n",
       "      <td>1.158258</td>\n",
       "      <td>0.04</td>\n",
       "      <td>0.0016</td>\n",
       "      <td>0.000064</td>\n",
       "      <td>0.000003</td>\n",
       "    </tr>\n",
       "    <tr>\n",
       "      <th>4</th>\n",
       "      <td>1.397567</td>\n",
       "      <td>0.22</td>\n",
       "      <td>0.0484</td>\n",
       "      <td>0.010648</td>\n",
       "      <td>0.002343</td>\n",
       "    </tr>\n",
       "    <tr>\n",
       "      <th>5</th>\n",
       "      <td>1.773240</td>\n",
       "      <td>0.40</td>\n",
       "      <td>0.1600</td>\n",
       "      <td>0.064000</td>\n",
       "      <td>0.025600</td>\n",
       "    </tr>\n",
       "  </tbody>\n",
       "</table>\n",
       "</div>"
      ],
      "text/plain": [
       "          y    x1      x2        x3        x4\n",
       "0  2.613388 -0.50  0.2500 -0.125000  0.062500\n",
       "1  2.170351 -0.32  0.1024 -0.032768  0.010486\n",
       "2  0.049546 -0.14  0.0196 -0.002744  0.000384\n",
       "3  1.158258  0.04  0.0016  0.000064  0.000003\n",
       "4  1.397567  0.22  0.0484  0.010648  0.002343\n",
       "5  1.773240  0.40  0.1600  0.064000  0.025600"
      ]
     },
     "execution_count": 158,
     "metadata": {},
     "output_type": "execute_result"
    }
   ],
   "source": [
    "x2 = square(x1)\n",
    "x3 = triple(x1)\n",
    "x4 = square(x2)\n",
    "df_1 = pd.DataFrame(data=[y, x1, x2, x3, x4], index=(['y', 'x1', 'x2', 'x3', 'x4'])).T\n",
    "df_1.head(6)"
   ]
  },
  {
   "cell_type": "markdown",
   "metadata": {},
   "source": [
    "**2.3)** For each of our polynomials (*x1, x2, x3, x4*), fit a model to *y*. Store and report the R-squared and parameters for each polynomial. Plot the R-squared values in a bar chart to see how they change with the polynomials. Which polynomial seems to be the best fit? Describe why this might be the case. **(10 points)**"
   ]
  },
  {
   "cell_type": "code",
   "execution_count": 159,
   "metadata": {},
   "outputs": [
    {
     "name": "stderr",
     "output_type": "stream",
     "text": [
      "/Applications/anaconda3/lib/python3.6/site-packages/statsmodels/stats/stattools.py:72: ValueWarning: omni_normtest is not valid with less than 8 observations; 6 samples were given.\n",
      "  \"samples were given.\" % int(n), ValueWarning)\n"
     ]
    },
    {
     "data": {
      "text/html": [
       "<table class=\"simpletable\">\n",
       "<caption>OLS Regression Results</caption>\n",
       "<tr>\n",
       "  <th>Dep. Variable:</th>            <td>y</td>        <th>  R-squared:         </th> <td>   0.085</td>\n",
       "</tr>\n",
       "<tr>\n",
       "  <th>Model:</th>                   <td>OLS</td>       <th>  Adj. R-squared:    </th> <td>  -0.098</td>\n",
       "</tr>\n",
       "<tr>\n",
       "  <th>Method:</th>             <td>Least Squares</td>  <th>  F-statistic:       </th> <td>  0.4665</td>\n",
       "</tr>\n",
       "<tr>\n",
       "  <th>Date:</th>             <td>Mon, 08 Oct 2018</td> <th>  Prob (F-statistic):</th>  <td> 0.525</td> \n",
       "</tr>\n",
       "<tr>\n",
       "  <th>Time:</th>                 <td>05:07:34</td>     <th>  Log-Likelihood:    </th> <td> -11.539</td>\n",
       "</tr>\n",
       "<tr>\n",
       "  <th>No. Observations:</th>      <td>     6</td>      <th>  AIC:               </th> <td>   25.08</td>\n",
       "</tr>\n",
       "<tr>\n",
       "  <th>Df Residuals:</th>          <td>     5</td>      <th>  BIC:               </th> <td>   24.87</td>\n",
       "</tr>\n",
       "<tr>\n",
       "  <th>Df Model:</th>              <td>     1</td>      <th>                     </th>     <td> </td>   \n",
       "</tr>\n",
       "<tr>\n",
       "  <th>Covariance Type:</th>      <td>nonrobust</td>    <th>                     </th>     <td> </td>   \n",
       "</tr>\n",
       "</table>\n",
       "<table class=\"simpletable\">\n",
       "<tr>\n",
       "   <td></td>     <th>coef</th>     <th>std err</th>      <th>t</th>      <th>P>|t|</th>  <th>[0.025</th>    <th>0.975]</th>  \n",
       "</tr>\n",
       "<tr>\n",
       "  <th>x1</th> <td>   -1.6238</td> <td>    2.377</td> <td>   -0.683</td> <td> 0.525</td> <td>   -7.735</td> <td>    4.487</td>\n",
       "</tr>\n",
       "</table>\n",
       "<table class=\"simpletable\">\n",
       "<tr>\n",
       "  <th>Omnibus:</th>       <td>   nan</td> <th>  Durbin-Watson:     </th> <td>   0.368</td>\n",
       "</tr>\n",
       "<tr>\n",
       "  <th>Prob(Omnibus):</th> <td>   nan</td> <th>  Jarque-Bera (JB):  </th> <td>   1.085</td>\n",
       "</tr>\n",
       "<tr>\n",
       "  <th>Skew:</th>          <td>-1.040</td> <th>  Prob(JB):          </th> <td>   0.581</td>\n",
       "</tr>\n",
       "<tr>\n",
       "  <th>Kurtosis:</th>      <td> 3.106</td> <th>  Cond. No.          </th> <td>    1.00</td>\n",
       "</tr>\n",
       "</table>"
      ],
      "text/plain": [
       "<class 'statsmodels.iolib.summary.Summary'>\n",
       "\"\"\"\n",
       "                            OLS Regression Results                            \n",
       "==============================================================================\n",
       "Dep. Variable:                      y   R-squared:                       0.085\n",
       "Model:                            OLS   Adj. R-squared:                 -0.098\n",
       "Method:                 Least Squares   F-statistic:                    0.4665\n",
       "Date:                Mon, 08 Oct 2018   Prob (F-statistic):              0.525\n",
       "Time:                        05:07:34   Log-Likelihood:                -11.539\n",
       "No. Observations:                   6   AIC:                             25.08\n",
       "Df Residuals:                       5   BIC:                             24.87\n",
       "Df Model:                           1                                         \n",
       "Covariance Type:            nonrobust                                         \n",
       "==============================================================================\n",
       "                 coef    std err          t      P>|t|      [0.025      0.975]\n",
       "------------------------------------------------------------------------------\n",
       "x1            -1.6238      2.377     -0.683      0.525      -7.735       4.487\n",
       "==============================================================================\n",
       "Omnibus:                          nan   Durbin-Watson:                   0.368\n",
       "Prob(Omnibus):                    nan   Jarque-Bera (JB):                1.085\n",
       "Skew:                          -1.040   Prob(JB):                        0.581\n",
       "Kurtosis:                       3.106   Cond. No.                         1.00\n",
       "==============================================================================\n",
       "\n",
       "Warnings:\n",
       "[1] Standard Errors assume that the covariance matrix of the errors is correctly specified.\n",
       "\"\"\""
      ]
     },
     "execution_count": 159,
     "metadata": {},
     "output_type": "execute_result"
    }
   ],
   "source": [
    "model_2 = sma.OLS(df_1['y'], df_1['x1']).fit()\n",
    "prediction = model.predict(df_1['x1'], )\n",
    "model_2.summary()"
   ]
  },
  {
   "cell_type": "code",
   "execution_count": 160,
   "metadata": {},
   "outputs": [
    {
     "name": "stderr",
     "output_type": "stream",
     "text": [
      "/Applications/anaconda3/lib/python3.6/site-packages/statsmodels/stats/stattools.py:72: ValueWarning: omni_normtest is not valid with less than 8 observations; 6 samples were given.\n",
      "  \"samples were given.\" % int(n), ValueWarning)\n"
     ]
    },
    {
     "data": {
      "text/html": [
       "<table class=\"simpletable\">\n",
       "<caption>OLS Regression Results</caption>\n",
       "<tr>\n",
       "  <th>Dep. Variable:</th>            <td>y</td>        <th>  R-squared:         </th> <td>   0.830</td>\n",
       "</tr>\n",
       "<tr>\n",
       "  <th>Model:</th>                   <td>OLS</td>       <th>  Adj. R-squared:    </th> <td>   0.796</td>\n",
       "</tr>\n",
       "<tr>\n",
       "  <th>Method:</th>             <td>Least Squares</td>  <th>  F-statistic:       </th> <td>   24.43</td>\n",
       "</tr>\n",
       "<tr>\n",
       "  <th>Date:</th>             <td>Mon, 08 Oct 2018</td> <th>  Prob (F-statistic):</th>  <td>0.00431</td>\n",
       "</tr>\n",
       "<tr>\n",
       "  <th>Time:</th>                 <td>05:07:34</td>     <th>  Log-Likelihood:    </th> <td> -6.4883</td>\n",
       "</tr>\n",
       "<tr>\n",
       "  <th>No. Observations:</th>      <td>     6</td>      <th>  AIC:               </th> <td>   14.98</td>\n",
       "</tr>\n",
       "<tr>\n",
       "  <th>Df Residuals:</th>          <td>     5</td>      <th>  BIC:               </th> <td>   14.77</td>\n",
       "</tr>\n",
       "<tr>\n",
       "  <th>Df Model:</th>              <td>     1</td>      <th>                     </th>     <td> </td>   \n",
       "</tr>\n",
       "<tr>\n",
       "  <th>Covariance Type:</th>      <td>nonrobust</td>    <th>                     </th>     <td> </td>   \n",
       "</tr>\n",
       "</table>\n",
       "<table class=\"simpletable\">\n",
       "<tr>\n",
       "   <td></td>     <th>coef</th>     <th>std err</th>      <th>t</th>      <th>P>|t|</th>  <th>[0.025</th>    <th>0.975]</th>  \n",
       "</tr>\n",
       "<tr>\n",
       "  <th>x2</th> <td>   12.1381</td> <td>    2.456</td> <td>    4.943</td> <td> 0.004</td> <td>    5.826</td> <td>   18.450</td>\n",
       "</tr>\n",
       "</table>\n",
       "<table class=\"simpletable\">\n",
       "<tr>\n",
       "  <th>Omnibus:</th>       <td>   nan</td> <th>  Durbin-Watson:     </th> <td>   1.929</td>\n",
       "</tr>\n",
       "<tr>\n",
       "  <th>Prob(Omnibus):</th> <td>   nan</td> <th>  Jarque-Bera (JB):  </th> <td>   0.835</td>\n",
       "</tr>\n",
       "<tr>\n",
       "  <th>Skew:</th>          <td> 0.020</td> <th>  Prob(JB):          </th> <td>   0.659</td>\n",
       "</tr>\n",
       "<tr>\n",
       "  <th>Kurtosis:</th>      <td> 1.173</td> <th>  Cond. No.          </th> <td>    1.00</td>\n",
       "</tr>\n",
       "</table>"
      ],
      "text/plain": [
       "<class 'statsmodels.iolib.summary.Summary'>\n",
       "\"\"\"\n",
       "                            OLS Regression Results                            \n",
       "==============================================================================\n",
       "Dep. Variable:                      y   R-squared:                       0.830\n",
       "Model:                            OLS   Adj. R-squared:                  0.796\n",
       "Method:                 Least Squares   F-statistic:                     24.43\n",
       "Date:                Mon, 08 Oct 2018   Prob (F-statistic):            0.00431\n",
       "Time:                        05:07:34   Log-Likelihood:                -6.4883\n",
       "No. Observations:                   6   AIC:                             14.98\n",
       "Df Residuals:                       5   BIC:                             14.77\n",
       "Df Model:                           1                                         \n",
       "Covariance Type:            nonrobust                                         \n",
       "==============================================================================\n",
       "                 coef    std err          t      P>|t|      [0.025      0.975]\n",
       "------------------------------------------------------------------------------\n",
       "x2            12.1381      2.456      4.943      0.004       5.826      18.450\n",
       "==============================================================================\n",
       "Omnibus:                          nan   Durbin-Watson:                   1.929\n",
       "Prob(Omnibus):                    nan   Jarque-Bera (JB):                0.835\n",
       "Skew:                           0.020   Prob(JB):                        0.659\n",
       "Kurtosis:                       1.173   Cond. No.                         1.00\n",
       "==============================================================================\n",
       "\n",
       "Warnings:\n",
       "[1] Standard Errors assume that the covariance matrix of the errors is correctly specified.\n",
       "\"\"\""
      ]
     },
     "execution_count": 160,
     "metadata": {},
     "output_type": "execute_result"
    }
   ],
   "source": [
    "model_3 = sma.OLS(df_1['y'], df_1['x2']).fit()\n",
    "prediction = model.predict(df_1['x2'], )\n",
    "model_3.summary()"
   ]
  },
  {
   "cell_type": "code",
   "execution_count": 161,
   "metadata": {},
   "outputs": [
    {
     "name": "stderr",
     "output_type": "stream",
     "text": [
      "/Applications/anaconda3/lib/python3.6/site-packages/statsmodels/stats/stattools.py:72: ValueWarning: omni_normtest is not valid with less than 8 observations; 6 samples were given.\n",
      "  \"samples were given.\" % int(n), ValueWarning)\n"
     ]
    },
    {
     "data": {
      "text/html": [
       "<table class=\"simpletable\">\n",
       "<caption>OLS Regression Results</caption>\n",
       "<tr>\n",
       "  <th>Dep. Variable:</th>            <td>y</td>        <th>  R-squared:         </th> <td>   0.193</td>\n",
       "</tr>\n",
       "<tr>\n",
       "  <th>Model:</th>                   <td>OLS</td>       <th>  Adj. R-squared:    </th> <td>   0.032</td>\n",
       "</tr>\n",
       "<tr>\n",
       "  <th>Method:</th>             <td>Least Squares</td>  <th>  F-statistic:       </th> <td>   1.196</td>\n",
       "</tr>\n",
       "<tr>\n",
       "  <th>Date:</th>             <td>Mon, 08 Oct 2018</td> <th>  Prob (F-statistic):</th>  <td> 0.324</td> \n",
       "</tr>\n",
       "<tr>\n",
       "  <th>Time:</th>                 <td>05:07:34</td>     <th>  Log-Likelihood:    </th> <td> -11.163</td>\n",
       "</tr>\n",
       "<tr>\n",
       "  <th>No. Observations:</th>      <td>     6</td>      <th>  AIC:               </th> <td>   24.33</td>\n",
       "</tr>\n",
       "<tr>\n",
       "  <th>Df Residuals:</th>          <td>     5</td>      <th>  BIC:               </th> <td>   24.12</td>\n",
       "</tr>\n",
       "<tr>\n",
       "  <th>Df Model:</th>              <td>     1</td>      <th>                     </th>     <td> </td>   \n",
       "</tr>\n",
       "<tr>\n",
       "  <th>Covariance Type:</th>      <td>nonrobust</td>    <th>                     </th>     <td> </td>   \n",
       "</tr>\n",
       "</table>\n",
       "<table class=\"simpletable\">\n",
       "<tr>\n",
       "   <td></td>     <th>coef</th>     <th>std err</th>      <th>t</th>      <th>P>|t|</th>  <th>[0.025</th>    <th>0.975]</th>  \n",
       "</tr>\n",
       "<tr>\n",
       "  <th>x3</th> <td>  -12.8844</td> <td>   11.779</td> <td>   -1.094</td> <td> 0.324</td> <td>  -43.163</td> <td>   17.394</td>\n",
       "</tr>\n",
       "</table>\n",
       "<table class=\"simpletable\">\n",
       "<tr>\n",
       "  <th>Omnibus:</th>       <td>   nan</td> <th>  Durbin-Watson:     </th> <td>   0.423</td>\n",
       "</tr>\n",
       "<tr>\n",
       "  <th>Prob(Omnibus):</th> <td>   nan</td> <th>  Jarque-Bera (JB):  </th> <td>   0.080</td>\n",
       "</tr>\n",
       "<tr>\n",
       "  <th>Skew:</th>          <td>-0.118</td> <th>  Prob(JB):          </th> <td>   0.961</td>\n",
       "</tr>\n",
       "<tr>\n",
       "  <th>Kurtosis:</th>      <td> 2.484</td> <th>  Cond. No.          </th> <td>    1.00</td>\n",
       "</tr>\n",
       "</table>"
      ],
      "text/plain": [
       "<class 'statsmodels.iolib.summary.Summary'>\n",
       "\"\"\"\n",
       "                            OLS Regression Results                            \n",
       "==============================================================================\n",
       "Dep. Variable:                      y   R-squared:                       0.193\n",
       "Model:                            OLS   Adj. R-squared:                  0.032\n",
       "Method:                 Least Squares   F-statistic:                     1.196\n",
       "Date:                Mon, 08 Oct 2018   Prob (F-statistic):              0.324\n",
       "Time:                        05:07:34   Log-Likelihood:                -11.163\n",
       "No. Observations:                   6   AIC:                             24.33\n",
       "Df Residuals:                       5   BIC:                             24.12\n",
       "Df Model:                           1                                         \n",
       "Covariance Type:            nonrobust                                         \n",
       "==============================================================================\n",
       "                 coef    std err          t      P>|t|      [0.025      0.975]\n",
       "------------------------------------------------------------------------------\n",
       "x3           -12.8844     11.779     -1.094      0.324     -43.163      17.394\n",
       "==============================================================================\n",
       "Omnibus:                          nan   Durbin-Watson:                   0.423\n",
       "Prob(Omnibus):                    nan   Jarque-Bera (JB):                0.080\n",
       "Skew:                          -0.118   Prob(JB):                        0.961\n",
       "Kurtosis:                       2.484   Cond. No.                         1.00\n",
       "==============================================================================\n",
       "\n",
       "Warnings:\n",
       "[1] Standard Errors assume that the covariance matrix of the errors is correctly specified.\n",
       "\"\"\""
      ]
     },
     "execution_count": 161,
     "metadata": {},
     "output_type": "execute_result"
    }
   ],
   "source": [
    "model_4 = sma.OLS(df_1['y'], df_1['x3']).fit()\n",
    "prediction = model.predict(df_1['x3'], )\n",
    "model_4.summary()"
   ]
  },
  {
   "cell_type": "code",
   "execution_count": 162,
   "metadata": {},
   "outputs": [
    {
     "name": "stderr",
     "output_type": "stream",
     "text": [
      "/Applications/anaconda3/lib/python3.6/site-packages/statsmodels/stats/stattools.py:72: ValueWarning: omni_normtest is not valid with less than 8 observations; 6 samples were given.\n",
      "  \"samples were given.\" % int(n), ValueWarning)\n"
     ]
    },
    {
     "data": {
      "text/html": [
       "<table class=\"simpletable\">\n",
       "<caption>OLS Regression Results</caption>\n",
       "<tr>\n",
       "  <th>Dep. Variable:</th>            <td>y</td>        <th>  R-squared:         </th> <td>   0.655</td>\n",
       "</tr>\n",
       "<tr>\n",
       "  <th>Model:</th>                   <td>OLS</td>       <th>  Adj. R-squared:    </th> <td>   0.587</td>\n",
       "</tr>\n",
       "<tr>\n",
       "  <th>Method:</th>             <td>Least Squares</td>  <th>  F-statistic:       </th> <td>   9.511</td>\n",
       "</tr>\n",
       "<tr>\n",
       "  <th>Date:</th>             <td>Mon, 08 Oct 2018</td> <th>  Prob (F-statistic):</th>  <td>0.0273</td> \n",
       "</tr>\n",
       "<tr>\n",
       "  <th>Time:</th>                 <td>05:07:34</td>     <th>  Log-Likelihood:    </th> <td> -8.6101</td>\n",
       "</tr>\n",
       "<tr>\n",
       "  <th>No. Observations:</th>      <td>     6</td>      <th>  AIC:               </th> <td>   19.22</td>\n",
       "</tr>\n",
       "<tr>\n",
       "  <th>Df Residuals:</th>          <td>     5</td>      <th>  BIC:               </th> <td>   19.01</td>\n",
       "</tr>\n",
       "<tr>\n",
       "  <th>Df Model:</th>              <td>     1</td>      <th>                     </th>     <td> </td>   \n",
       "</tr>\n",
       "<tr>\n",
       "  <th>Covariance Type:</th>      <td>nonrobust</td>    <th>                     </th>     <td> </td>   \n",
       "</tr>\n",
       "</table>\n",
       "<table class=\"simpletable\">\n",
       "<tr>\n",
       "   <td></td>     <th>coef</th>     <th>std err</th>      <th>t</th>      <th>P>|t|</th>  <th>[0.025</th>    <th>0.975]</th>  \n",
       "</tr>\n",
       "<tr>\n",
       "  <th>x4</th> <td>   50.1979</td> <td>   16.277</td> <td>    3.084</td> <td> 0.027</td> <td>    8.356</td> <td>   92.040</td>\n",
       "</tr>\n",
       "</table>\n",
       "<table class=\"simpletable\">\n",
       "<tr>\n",
       "  <th>Omnibus:</th>       <td>   nan</td> <th>  Durbin-Watson:     </th> <td>   1.488</td>\n",
       "</tr>\n",
       "<tr>\n",
       "  <th>Prob(Omnibus):</th> <td>   nan</td> <th>  Jarque-Bera (JB):  </th> <td>   0.519</td>\n",
       "</tr>\n",
       "<tr>\n",
       "  <th>Skew:</th>          <td>-0.309</td> <th>  Prob(JB):          </th> <td>   0.772</td>\n",
       "</tr>\n",
       "<tr>\n",
       "  <th>Kurtosis:</th>      <td> 1.699</td> <th>  Cond. No.          </th> <td>    1.00</td>\n",
       "</tr>\n",
       "</table>"
      ],
      "text/plain": [
       "<class 'statsmodels.iolib.summary.Summary'>\n",
       "\"\"\"\n",
       "                            OLS Regression Results                            \n",
       "==============================================================================\n",
       "Dep. Variable:                      y   R-squared:                       0.655\n",
       "Model:                            OLS   Adj. R-squared:                  0.587\n",
       "Method:                 Least Squares   F-statistic:                     9.511\n",
       "Date:                Mon, 08 Oct 2018   Prob (F-statistic):             0.0273\n",
       "Time:                        05:07:34   Log-Likelihood:                -8.6101\n",
       "No. Observations:                   6   AIC:                             19.22\n",
       "Df Residuals:                       5   BIC:                             19.01\n",
       "Df Model:                           1                                         \n",
       "Covariance Type:            nonrobust                                         \n",
       "==============================================================================\n",
       "                 coef    std err          t      P>|t|      [0.025      0.975]\n",
       "------------------------------------------------------------------------------\n",
       "x4            50.1979     16.277      3.084      0.027       8.356      92.040\n",
       "==============================================================================\n",
       "Omnibus:                          nan   Durbin-Watson:                   1.488\n",
       "Prob(Omnibus):                    nan   Jarque-Bera (JB):                0.519\n",
       "Skew:                          -0.309   Prob(JB):                        0.772\n",
       "Kurtosis:                       1.699   Cond. No.                         1.00\n",
       "==============================================================================\n",
       "\n",
       "Warnings:\n",
       "[1] Standard Errors assume that the covariance matrix of the errors is correctly specified.\n",
       "\"\"\""
      ]
     },
     "execution_count": 162,
     "metadata": {},
     "output_type": "execute_result"
    }
   ],
   "source": [
    "model_5 = sma.OLS(df_1['y'], df_1['x4']).fit()\n",
    "prediction = model.predict(df_1['x4'], )\n",
    "model_5.summary()"
   ]
  },
  {
   "cell_type": "code",
   "execution_count": 163,
   "metadata": {},
   "outputs": [
    {
     "data": {
      "text/plain": [
       "<Container object of 4 artists>"
      ]
     },
     "execution_count": 163,
     "metadata": {},
     "output_type": "execute_result"
    },
    {
     "data": {
      "image/png": "[encoded data removed]",
      "text/plain": [
       "<matplotlib.figure.Figure at 0x1c1d049dd8>"
      ]
     },
     "metadata": {},
     "output_type": "display_data"
    }
   ],
   "source": [
    "parameter = ['x1_y_r', 'x2_y_r', 'x3_y_r', 'x4_y_r']\n",
    "r_squared = [0.085, 0.830, 0.193, 0.655]\n",
    "plt.bar(parameter, r_squared)"
   ]
  },
  {
   "cell_type": "markdown",
   "metadata": {},
   "source": [
    "The second bar seems to be the best fit since it has the highest r-squared value.  "
   ]
  },
  {
   "cell_type": "markdown",
   "metadata": {},
   "source": [
    "**2.4)** Plot a figure with 4 subfigures, one for each polynomial degree. In each subfigure:<br>\n",
    "a) Draw the original scatter plot<br>\n",
    "b) Plot the curve of the true function $f(x) = 9x^2 - x + 1$ (use np.linspace to create a line)<br>\n",
    "c) Plot your fitted curve for each degree. Observe how our model fits the data as the degree changes.<br>\n",
    "d) Having done this exercise, why might adding polynomials to our data be useful? What conclusions can we draw from fitting the four polynomials? **(10 points)**"
   ]
  },
  {
   "cell_type": "code",
   "execution_count": 173,
   "metadata": {},
   "outputs": [
    {
     "data": {
      "text/plain": [
       "Text(0.5,1,'Degree 4')"
      ]
     },
     "execution_count": 173,
     "metadata": {},
     "output_type": "execute_result"
    },
    {
     "data": {
      "image/png": "[encoded data removed]",
      "text/plain": [
       "<matplotlib.figure.Figure at 0x1c284b8a90>"
      ]
     },
     "metadata": {},
     "output_type": "display_data"
    }
   ],
   "source": [
    "p1 = np.polyfit(x1,y,1)\n",
    "p2 = np.polyfit(x1,y,2)\n",
    "p3 = np.polyfit(x1,y,3)\n",
    "p4 = np.polyfit(x1,y,4)\n",
    "xp = np.linspace(-2, 6, 100)\n",
    "a= np.linspace(-0.5, 0.5, 50)\n",
    "b=9*(a**2)-a+1\n",
    "\n",
    "plt.figure(figsize=(10, 8))\n",
    "plt.subplot(2,2,1)\n",
    "plt.plot(x1,y,'o')\n",
    "plt.ylim(0,2.5)\n",
    "plt.xlim(-0.7,0.7)\n",
    "plt.plot(xp,np.polyval(p1,xp),'r-')\n",
    "plt.plot(a,b,'b--')\n",
    "plt.title('Degree 1')\n",
    "\n",
    "plt.subplot(2,2,2)\n",
    "plt.plot(x1,y,'o')\n",
    "plt.ylim(0,2.5)\n",
    "plt.xlim(-0.7,0.7)\n",
    "plt.plot(xp,np.polyval(p2,xp),'r--')\n",
    "plt.plot(a,b,'b--')\n",
    "plt.title('Degree 2')\n",
    "\n",
    "plt.subplot(2,2,3)\n",
    "plt.plot(x1,y,'o')\n",
    "plt.ylim(0,2.5)\n",
    "plt.xlim(-0.7,0.7)\n",
    "plt.plot(xp,np.polyval(p3,xp),'r--')\n",
    "plt.plot(a,b,'b--')\n",
    "plt.title('Degree 3')\n",
    "\n",
    "plt.subplot(2,2,4)\n",
    "plt.plot(x1,y,'o')\n",
    "plt.ylim(0,2.5)\n",
    "plt.xlim(-0.7,0.7)\n",
    "plt.plot(xp,np.polyval(p4,xp),'r--')\n",
    "plt.plot(a,b,'b--')\n",
    "plt.title('Degree 4')"
   ]
  },
  {
   "cell_type": "markdown",
   "metadata": {},
   "source": [
    "By adding polynomials to our data, we can compare the result with other polynomials and find out which one is the best fit. We can conclude that the second polynomial is the best fit. "
   ]
  },
  {
   "cell_type": "markdown",
   "metadata": {},
   "source": [
    "### Problem 3 - Intro to Normalization (20 points)"
   ]
  },
  {
   "cell_type": "markdown",
   "metadata": {},
   "source": [
    "This final problem is a brief exercise to explore the effects of normalization. We will be using household data from California, which was derived from the 1990 census. (https://www.kaggle.com/camnugent/california-housing-prices)"
   ]
  },
  {
   "cell_type": "code",
   "execution_count": 165,
   "metadata": {},
   "outputs": [
    {
     "data": {
      "text/html": [
       "<div>\n",
       "<style>\n",
       "    .dataframe thead tr:only-child th {\n",
       "        text-align: right;\n",
       "    }\n",
       "\n",
       "    .dataframe thead th {\n",
       "        text-align: left;\n",
       "    }\n",
       "\n",
       "    .dataframe tbody tr th {\n",
       "        vertical-align: top;\n",
       "    }\n",
       "</style>\n",
       "<table border=\"1\" class=\"dataframe\">\n",
       "  <thead>\n",
       "    <tr style=\"text-align: right;\">\n",
       "      <th></th>\n",
       "      <th>median_income</th>\n",
       "      <th>median_house_value</th>\n",
       "    </tr>\n",
       "  </thead>\n",
       "  <tbody>\n",
       "    <tr>\n",
       "      <th>0</th>\n",
       "      <td>8.3252</td>\n",
       "      <td>452600.0</td>\n",
       "    </tr>\n",
       "    <tr>\n",
       "      <th>1</th>\n",
       "      <td>8.3014</td>\n",
       "      <td>358500.0</td>\n",
       "    </tr>\n",
       "    <tr>\n",
       "      <th>2</th>\n",
       "      <td>7.2574</td>\n",
       "      <td>352100.0</td>\n",
       "    </tr>\n",
       "    <tr>\n",
       "      <th>3</th>\n",
       "      <td>5.6431</td>\n",
       "      <td>341300.0</td>\n",
       "    </tr>\n",
       "    <tr>\n",
       "      <th>4</th>\n",
       "      <td>3.8462</td>\n",
       "      <td>342200.0</td>\n",
       "    </tr>\n",
       "  </tbody>\n",
       "</table>\n",
       "</div>"
      ],
      "text/plain": [
       "   median_income  median_house_value\n",
       "0         8.3252            452600.0\n",
       "1         8.3014            358500.0\n",
       "2         7.2574            352100.0\n",
       "3         5.6431            341300.0\n",
       "4         3.8462            342200.0"
      ]
     },
     "execution_count": 165,
     "metadata": {},
     "output_type": "execute_result"
    }
   ],
   "source": [
    "housing = pd.read_csv('housing.csv')\n",
    "housing = housing[['median_income', 'median_house_value']][0:50]\n",
    "housing.head()"
   ]
  },
  {
   "cell_type": "markdown",
   "metadata": {},
   "source": [
    "**3.1)** Are there any immediately obvious trends between our two variables? Sort the values by *median_house_value*, then plot the data. Write a brief description of what you see (or, more likely, what you don't see, and why that might be the case). **(10 points)**"
   ]
  },
  {
   "cell_type": "code",
   "execution_count": 171,
   "metadata": {},
   "outputs": [
    {
     "data": {
      "text/plain": [
       "Text(0,0.5,'Median House Value')"
      ]
     },
     "execution_count": 171,
     "metadata": {},
     "output_type": "execute_result"
    },
    {
     "data": {
      "image/png": "[encoded data removed]",
      "text/plain": [
       "<matplotlib.figure.Figure at 0x1c244bef98>"
      ]
     },
     "metadata": {},
     "output_type": "display_data"
    }
   ],
   "source": [
    "housing_new = housing.sort_values(by='median_house_value')\n",
    "plt.scatter(housing_new['median_house_value'], housing_new['median_income'])\n",
    "plt.xlabel('Meidan Income', fontsize=16)\n",
    "plt.ylabel('Median House Value', fontsize=16)"
   ]
  },
  {
   "cell_type": "code",
   "execution_count": 167,
   "metadata": {},
   "outputs": [
    {
     "data": {
      "text/html": [
       "<div>\n",
       "<style>\n",
       "    .dataframe thead tr:only-child th {\n",
       "        text-align: right;\n",
       "    }\n",
       "\n",
       "    .dataframe thead th {\n",
       "        text-align: left;\n",
       "    }\n",
       "\n",
       "    .dataframe tbody tr th {\n",
       "        vertical-align: top;\n",
       "    }\n",
       "</style>\n",
       "<table border=\"1\" class=\"dataframe\">\n",
       "  <thead>\n",
       "    <tr style=\"text-align: right;\">\n",
       "      <th></th>\n",
       "      <th>median_income</th>\n",
       "      <th>median_house_value</th>\n",
       "    </tr>\n",
       "  </thead>\n",
       "  <tbody>\n",
       "    <tr>\n",
       "      <th>count</th>\n",
       "      <td>50.000000</td>\n",
       "      <td>50.000000</td>\n",
       "    </tr>\n",
       "    <tr>\n",
       "      <th>mean</th>\n",
       "      <td>2.713902</td>\n",
       "      <td>179962.000000</td>\n",
       "    </tr>\n",
       "    <tr>\n",
       "      <th>std</th>\n",
       "      <td>1.627701</td>\n",
       "      <td>82950.363545</td>\n",
       "    </tr>\n",
       "    <tr>\n",
       "      <th>min</th>\n",
       "      <td>0.950600</td>\n",
       "      <td>93800.000000</td>\n",
       "    </tr>\n",
       "    <tr>\n",
       "      <th>25%</th>\n",
       "      <td>1.744850</td>\n",
       "      <td>114225.000000</td>\n",
       "    </tr>\n",
       "    <tr>\n",
       "      <th>50%</th>\n",
       "      <td>2.152800</td>\n",
       "      <td>155450.000000</td>\n",
       "    </tr>\n",
       "    <tr>\n",
       "      <th>75%</th>\n",
       "      <td>3.108750</td>\n",
       "      <td>207975.000000</td>\n",
       "    </tr>\n",
       "    <tr>\n",
       "      <th>max</th>\n",
       "      <td>8.325200</td>\n",
       "      <td>452600.000000</td>\n",
       "    </tr>\n",
       "  </tbody>\n",
       "</table>\n",
       "</div>"
      ],
      "text/plain": [
       "       median_income  median_house_value\n",
       "count      50.000000           50.000000\n",
       "mean        2.713902       179962.000000\n",
       "std         1.627701        82950.363545\n",
       "min         0.950600        93800.000000\n",
       "25%         1.744850       114225.000000\n",
       "50%         2.152800       155450.000000\n",
       "75%         3.108750       207975.000000\n",
       "max         8.325200       452600.000000"
      ]
     },
     "execution_count": 167,
     "metadata": {},
     "output_type": "execute_result"
    }
   ],
   "source": [
    "housing_new.describe()"
   ]
  },
  {
   "cell_type": "markdown",
   "metadata": {},
   "source": [
    "**Summary:**It seems like higher median income leads to higher median house value. But it is not very clear. I believe there are many other facts that can affact the median house value. "
   ]
  },
  {
   "cell_type": "markdown",
   "metadata": {},
   "source": [
    "**3.2)** Orthonormalize the data so that the *mean* is 0 and the *st_dev* is 1. Write this as a python function that can be fed a dataframe and return an orthonormalized version (this should take no more than 4 lines of code). Plot an orthonormalized version of the housing data that you now have. Write a brief description of how it looks different than in *3.1* and ellaborate breifly on why and in what situations orthonormalization can be useful. **(10 points)**"
   ]
  },
  {
   "cell_type": "code",
   "execution_count": 168,
   "metadata": {},
   "outputs": [
    {
     "data": {
      "text/html": [
       "<div>\n",
       "<style>\n",
       "    .dataframe thead tr:only-child th {\n",
       "        text-align: right;\n",
       "    }\n",
       "\n",
       "    .dataframe thead th {\n",
       "        text-align: left;\n",
       "    }\n",
       "\n",
       "    .dataframe tbody tr th {\n",
       "        vertical-align: top;\n",
       "    }\n",
       "</style>\n",
       "<table border=\"1\" class=\"dataframe\">\n",
       "  <thead>\n",
       "    <tr style=\"text-align: right;\">\n",
       "      <th></th>\n",
       "      <th>median_income</th>\n",
       "      <th>median_house_value</th>\n",
       "    </tr>\n",
       "  </thead>\n",
       "  <tbody>\n",
       "    <tr>\n",
       "      <th>count</th>\n",
       "      <td>5.000000e+01</td>\n",
       "      <td>5.000000e+01</td>\n",
       "    </tr>\n",
       "    <tr>\n",
       "      <th>mean</th>\n",
       "      <td>-9.769963e-17</td>\n",
       "      <td>2.842171e-16</td>\n",
       "    </tr>\n",
       "    <tr>\n",
       "      <th>std</th>\n",
       "      <td>1.000000e+00</td>\n",
       "      <td>1.000000e+00</td>\n",
       "    </tr>\n",
       "    <tr>\n",
       "      <th>min</th>\n",
       "      <td>-1.083309e+00</td>\n",
       "      <td>-1.038718e+00</td>\n",
       "    </tr>\n",
       "    <tr>\n",
       "      <th>25%</th>\n",
       "      <td>-5.953502e-01</td>\n",
       "      <td>-7.924860e-01</td>\n",
       "    </tr>\n",
       "    <tr>\n",
       "      <th>50%</th>\n",
       "      <td>-3.447206e-01</td>\n",
       "      <td>-2.955020e-01</td>\n",
       "    </tr>\n",
       "    <tr>\n",
       "      <th>75%</th>\n",
       "      <td>2.425802e-01</td>\n",
       "      <td>3.377080e-01</td>\n",
       "    </tr>\n",
       "    <tr>\n",
       "      <th>max</th>\n",
       "      <td>3.447377e+00</td>\n",
       "      <td>3.286761e+00</td>\n",
       "    </tr>\n",
       "  </tbody>\n",
       "</table>\n",
       "</div>"
      ],
      "text/plain": [
       "       median_income  median_house_value\n",
       "count   5.000000e+01        5.000000e+01\n",
       "mean   -9.769963e-17        2.842171e-16\n",
       "std     1.000000e+00        1.000000e+00\n",
       "min    -1.083309e+00       -1.038718e+00\n",
       "25%    -5.953502e-01       -7.924860e-01\n",
       "50%    -3.447206e-01       -2.955020e-01\n",
       "75%     2.425802e-01        3.377080e-01\n",
       "max     3.447377e+00        3.286761e+00"
      ]
     },
     "execution_count": 168,
     "metadata": {},
     "output_type": "execute_result"
    }
   ],
   "source": [
    "housing_new['median_house_value'] = (housing_new['median_house_value'] - housing_new['median_house_value'].mean()) / housing_new['median_house_value'].std()\n",
    "housing_new['median_income'] = (housing_new['median_income'] - housing_new['median_income'].mean()) / housing_new['median_income'].std()\n",
    "housing_new.describe()"
   ]
  },
  {
   "cell_type": "code",
   "execution_count": 172,
   "metadata": {},
   "outputs": [
    {
     "data": {
      "text/plain": [
       "Text(0,0.5,'Median House Value')"
      ]
     },
     "execution_count": 172,
     "metadata": {},
     "output_type": "execute_result"
    },
    {
     "data": {
      "image/png": "[encoded data removed]",
      "text/plain": [
       "<matplotlib.figure.Figure at 0x1c24ef68d0>"
      ]
     },
     "metadata": {},
     "output_type": "display_data"
    }
   ],
   "source": [
    "plt.scatter(housing_new['median_house_value'], housing_new['median_income'])\n",
    "plt.xlabel('Meidan Income', fontsize=16)\n",
    "plt.ylabel('Median House Value', fontsize=16)"
   ]
  },
  {
   "cell_type": "markdown",
   "metadata": {},
   "source": [
    "**Summary:**It looks exactly the same as the plot in 3.1. By applying orthonormalization, we can find out the degree of influence that each variable has on the dependant variable since it can be done variable by variable. If you have a data set that has a lot of variables, and you want to find out a one standard deviation increase in one variable can affact another variable by how much, you can use orthonormalization to find out."
   ]
  },
  {
   "cell_type": "code",
   "execution_count": null,
   "metadata": {
    "collapsed": true
   },
   "outputs": [],
   "source": []
  },
  {
   "cell_type": "code",
   "execution_count": null,
   "metadata": {
    "collapsed": true
   },
   "outputs": [],
   "source": []
  },
  {
   "cell_type": "code",
   "execution_count": null,
   "metadata": {
    "collapsed": true
   },
   "outputs": [],
   "source": []
  }
 ],
 "metadata": {
  "kernelspec": {
   "display_name": "Python 3",
   "language": "python",
   "name": "python3"
  },
  "language_info": {
   "codemirror_mode": {
    "name": "ipython",
    "version": 3
   },
   "file_extension": ".py",
   "mimetype": "text/x-python",
   "name": "python",
   "nbconvert_exporter": "python",
   "pygments_lexer": "ipython3",
   "version": "3.6.3"
  }
 },
 "nbformat": 4,
 "nbformat_minor": 2
}
